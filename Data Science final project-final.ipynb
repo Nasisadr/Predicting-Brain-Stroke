{
 "cells": [
  {
   "cell_type": "code",
   "execution_count": 86,
   "id": "6d3c339f",
   "metadata": {},
   "outputs": [
    {
     "name": "stdout",
     "output_type": "stream",
     "text": [
      "The data shape is:\n",
      "(4981, 11)\n"
     ]
    }
   ],
   "source": [
    "import pandas as pd\n",
    "\n",
    "import matplotlib.pyplot as plt\n",
    "from sklearn.preprocessing import Normalizer\n",
    "from numpy import set_printoptions\n",
    "import numpy as np\n",
    "from sklearn.metrics import accuracy_score, confusion_matrix, classification_report\n",
    "\n",
    "from pandas import read_csv\n",
    "#reading the CSV file\n",
    "my_data=pd.read_csv(r'C:\\university\\second semeaster\\Data Science\\Brain Stroke prediction project\\Full_data.csv')\n",
    "print(\"The data shape is:\")\n",
    "print(my_data.shape)\n",
    "\n",
    "\n"
   ]
  },
  {
   "cell_type": "code",
   "execution_count": 87,
   "id": "fdef36bf",
   "metadata": {},
   "outputs": [
    {
     "name": "stdout",
     "output_type": "stream",
     "text": [
      "Five first rows of data\n",
      "   gender   age  hypertension  heart_disease ever_married      work_type Residence_type  avg_glucose_level   bmi   smoking_status  stroke\n",
      "0    Male  67.0             0              1          Yes        Private          Urban             228.69  36.6  formerly smoked       1\n",
      "1    Male  80.0             0              1          Yes        Private          Rural             105.92  32.5     never smoked       1\n",
      "2  Female  49.0             0              0          Yes        Private          Urban             171.23  34.4           smokes       1\n",
      "3  Female  79.0             1              0          Yes  Self-employed          Rural             174.12  24.0     never smoked       1\n",
      "4    Male  81.0             0              0          Yes        Private          Urban             186.21  29.0  formerly smoked       1\n"
     ]
    }
   ],
   "source": [
    "print(\"Five first rows of data\")\n",
    "print(my_data.head(5))\n"
   ]
  },
  {
   "cell_type": "code",
   "execution_count": 88,
   "id": "42575b14",
   "metadata": {
    "scrolled": true
   },
   "outputs": [
    {
     "name": "stdout",
     "output_type": "stream",
     "text": [
      "five last rows of the data\n",
      "      gender   age  hypertension  heart_disease ever_married work_type Residence_type  avg_glucose_level   bmi   smoking_status  stroke\n",
      "4976    Male  41.0             0              0           No   Private          Rural              70.15  29.8  formerly smoked       0\n",
      "4977    Male  40.0             0              0          Yes   Private          Urban             191.15  31.1           smokes       0\n",
      "4978  Female  45.0             1              0          Yes  Govt_job          Rural              95.02  31.8           smokes       0\n",
      "4979    Male  40.0             0              0          Yes   Private          Rural              83.94  30.0           smokes       0\n",
      "4980  Female  80.0             1              0          Yes   Private          Urban              83.75  29.1     never smoked       0\n"
     ]
    }
   ],
   "source": [
    "print(\"five last rows of the data\")\n",
    "print(my_data.tail(5))"
   ]
  },
  {
   "cell_type": "code",
   "execution_count": null,
   "id": "f3c0c0d6",
   "metadata": {},
   "outputs": [],
   "source": []
  },
  {
   "cell_type": "code",
   "execution_count": 89,
   "id": "b661a524",
   "metadata": {},
   "outputs": [
    {
     "name": "stdout",
     "output_type": "stream",
     "text": [
      "<class 'pandas.core.frame.DataFrame'>\n",
      "RangeIndex: 4981 entries, 0 to 4980\n",
      "Data columns (total 11 columns):\n",
      " #   Column             Non-Null Count  Dtype  \n",
      "---  ------             --------------  -----  \n",
      " 0   gender             4981 non-null   object \n",
      " 1   age                4981 non-null   float64\n",
      " 2   hypertension       4981 non-null   int64  \n",
      " 3   heart_disease      4981 non-null   int64  \n",
      " 4   ever_married       4981 non-null   object \n",
      " 5   work_type          4981 non-null   object \n",
      " 6   Residence_type     4981 non-null   object \n",
      " 7   avg_glucose_level  4981 non-null   float64\n",
      " 8   bmi                4981 non-null   float64\n",
      " 9   smoking_status     4981 non-null   object \n",
      " 10  stroke             4981 non-null   int64  \n",
      "dtypes: float64(3), int64(3), object(5)\n",
      "memory usage: 428.2+ KB\n",
      "None\n"
     ]
    }
   ],
   "source": [
    "print(my_data.info())"
   ]
  },
  {
   "cell_type": "code",
   "execution_count": 90,
   "id": "7fa58584",
   "metadata": {
    "scrolled": false
   },
   "outputs": [
    {
     "name": "stdout",
     "output_type": "stream",
     "text": [
      "#####Missing data#######\n",
      "Empty DataFrame\n",
      "Columns: [gender, age, hypertension, heart_disease, ever_married, work_type, Residence_type, avg_glucose_level, bmi, smoking_status, stroke]\n",
      "Index: []\n",
      "gender                object\n",
      "age                  float64\n",
      "hypertension           int64\n",
      "heart_disease          int64\n",
      "ever_married          object\n",
      "work_type             object\n",
      "Residence_type        object\n",
      "avg_glucose_level    float64\n",
      "bmi                  float64\n",
      "smoking_status        object\n",
      "stroke                 int64\n",
      "dtype: object\n",
      "['Male' 'Female']\n",
      "['Yes' 'No']\n",
      "['Private' 'Self-employed' 'Govt_job' 'children']\n",
      "['Urban' 'Rural']\n",
      "['formerly smoked' 'never smoked' 'smokes' 'Unknown']\n",
      "gender                object\n",
      "age                  float64\n",
      "hypertension           int64\n",
      "heart_disease          int64\n",
      "ever_married          object\n",
      "work_type             object\n",
      "Residence_type        object\n",
      "avg_glucose_level    float64\n",
      "bmi                  float64\n",
      "smoking_status        object\n",
      "stroke                 int64\n",
      "dtype: object\n"
     ]
    },
    {
     "name": "stderr",
     "output_type": "stream",
     "text": [
      "<ipython-input-90-2a1210dea720>:17: SettingWithCopyWarning: \n",
      "A value is trying to be set on a copy of a slice from a DataFrame\n",
      "\n",
      "See the caveats in the documentation: https://pandas.pydata.org/pandas-docs/stable/user_guide/indexing.html#returning-a-view-versus-a-copy\n",
      "  my_data['gender'][my_data['gender'] == 'Male'] = 0\n",
      "<ipython-input-90-2a1210dea720>:18: SettingWithCopyWarning: \n",
      "A value is trying to be set on a copy of a slice from a DataFrame\n",
      "\n",
      "See the caveats in the documentation: https://pandas.pydata.org/pandas-docs/stable/user_guide/indexing.html#returning-a-view-versus-a-copy\n",
      "  my_data['gender'][my_data['gender'] == 'Female'] = 1\n",
      "<ipython-input-90-2a1210dea720>:20: SettingWithCopyWarning: \n",
      "A value is trying to be set on a copy of a slice from a DataFrame\n",
      "\n",
      "See the caveats in the documentation: https://pandas.pydata.org/pandas-docs/stable/user_guide/indexing.html#returning-a-view-versus-a-copy\n",
      "  my_data['ever_married'][my_data['ever_married'] == 'Yes'] = 0\n",
      "<ipython-input-90-2a1210dea720>:21: SettingWithCopyWarning: \n",
      "A value is trying to be set on a copy of a slice from a DataFrame\n",
      "\n",
      "See the caveats in the documentation: https://pandas.pydata.org/pandas-docs/stable/user_guide/indexing.html#returning-a-view-versus-a-copy\n",
      "  my_data['ever_married'][my_data['ever_married'] == 'No'] = 1\n",
      "<ipython-input-90-2a1210dea720>:23: SettingWithCopyWarning: \n",
      "A value is trying to be set on a copy of a slice from a DataFrame\n",
      "\n",
      "See the caveats in the documentation: https://pandas.pydata.org/pandas-docs/stable/user_guide/indexing.html#returning-a-view-versus-a-copy\n",
      "  my_data['work_type'][my_data['work_type'] == 'Private'] = 0\n",
      "<ipython-input-90-2a1210dea720>:24: SettingWithCopyWarning: \n",
      "A value is trying to be set on a copy of a slice from a DataFrame\n",
      "\n",
      "See the caveats in the documentation: https://pandas.pydata.org/pandas-docs/stable/user_guide/indexing.html#returning-a-view-versus-a-copy\n",
      "  my_data['work_type'][my_data['work_type'] == 'Self-employed'] = 1\n",
      "<ipython-input-90-2a1210dea720>:25: SettingWithCopyWarning: \n",
      "A value is trying to be set on a copy of a slice from a DataFrame\n",
      "\n",
      "See the caveats in the documentation: https://pandas.pydata.org/pandas-docs/stable/user_guide/indexing.html#returning-a-view-versus-a-copy\n",
      "  my_data['work_type'][my_data['work_type'] == 'Govt_job'] = 2\n",
      "<ipython-input-90-2a1210dea720>:26: SettingWithCopyWarning: \n",
      "A value is trying to be set on a copy of a slice from a DataFrame\n",
      "\n",
      "See the caveats in the documentation: https://pandas.pydata.org/pandas-docs/stable/user_guide/indexing.html#returning-a-view-versus-a-copy\n",
      "  my_data['work_type'][my_data['work_type'] == 'children'] = 3\n",
      "<ipython-input-90-2a1210dea720>:28: SettingWithCopyWarning: \n",
      "A value is trying to be set on a copy of a slice from a DataFrame\n",
      "\n",
      "See the caveats in the documentation: https://pandas.pydata.org/pandas-docs/stable/user_guide/indexing.html#returning-a-view-versus-a-copy\n",
      "  my_data['Residence_type'][my_data['Residence_type'] == 'Urban'] = 0\n",
      "<ipython-input-90-2a1210dea720>:29: SettingWithCopyWarning: \n",
      "A value is trying to be set on a copy of a slice from a DataFrame\n",
      "\n",
      "See the caveats in the documentation: https://pandas.pydata.org/pandas-docs/stable/user_guide/indexing.html#returning-a-view-versus-a-copy\n",
      "  my_data['Residence_type'][my_data['Residence_type'] == 'Rural'] = 1\n",
      "<ipython-input-90-2a1210dea720>:31: SettingWithCopyWarning: \n",
      "A value is trying to be set on a copy of a slice from a DataFrame\n",
      "\n",
      "See the caveats in the documentation: https://pandas.pydata.org/pandas-docs/stable/user_guide/indexing.html#returning-a-view-versus-a-copy\n",
      "  my_data['smoking_status'][my_data['smoking_status'] == 'formerly smoked'] = 0\n",
      "<ipython-input-90-2a1210dea720>:32: SettingWithCopyWarning: \n",
      "A value is trying to be set on a copy of a slice from a DataFrame\n",
      "\n",
      "See the caveats in the documentation: https://pandas.pydata.org/pandas-docs/stable/user_guide/indexing.html#returning-a-view-versus-a-copy\n",
      "  my_data['smoking_status'][my_data['smoking_status'] == 'never smoked'] = 1\n",
      "<ipython-input-90-2a1210dea720>:33: SettingWithCopyWarning: \n",
      "A value is trying to be set on a copy of a slice from a DataFrame\n",
      "\n",
      "See the caveats in the documentation: https://pandas.pydata.org/pandas-docs/stable/user_guide/indexing.html#returning-a-view-versus-a-copy\n",
      "  my_data['smoking_status'][my_data['smoking_status'] == 'smokes'] = 2\n",
      "<ipython-input-90-2a1210dea720>:34: SettingWithCopyWarning: \n",
      "A value is trying to be set on a copy of a slice from a DataFrame\n",
      "\n",
      "See the caveats in the documentation: https://pandas.pydata.org/pandas-docs/stable/user_guide/indexing.html#returning-a-view-versus-a-copy\n",
      "  my_data['smoking_status'][my_data['smoking_status'] == 'Unknown'] = 3\n"
     ]
    }
   ],
   "source": [
    "#printing rows containing empty variables\n",
    "empty_data=my_data[my_data.isna().any(axis=1)]\n",
    "print(\"#####Missing data#######\")\n",
    "print(empty_data)\n",
    "#It doesn't show any missing data\n",
    "\n",
    "print(my_data.dtypes)\n",
    "\n",
    "\n",
    "print(my_data['gender'].unique())\n",
    "print(my_data['ever_married'].unique())\n",
    "print(my_data['work_type'].unique())\n",
    "print(my_data['Residence_type'].unique())\n",
    "print(my_data['smoking_status'].unique())\n",
    "\n",
    "\n",
    "my_data['gender'][my_data['gender'] == 'Male'] = 0\n",
    "my_data['gender'][my_data['gender'] == 'Female'] = 1\n",
    "\n",
    "my_data['ever_married'][my_data['ever_married'] == 'Yes'] = 0\n",
    "my_data['ever_married'][my_data['ever_married'] == 'No'] = 1\n",
    "\n",
    "my_data['work_type'][my_data['work_type'] == 'Private'] = 0\n",
    "my_data['work_type'][my_data['work_type'] == 'Self-employed'] = 1\n",
    "my_data['work_type'][my_data['work_type'] == 'Govt_job'] = 2\n",
    "my_data['work_type'][my_data['work_type'] == 'children'] = 3\n",
    "\n",
    "my_data['Residence_type'][my_data['Residence_type'] == 'Urban'] = 0\n",
    "my_data['Residence_type'][my_data['Residence_type'] == 'Rural'] = 1\n",
    "\n",
    "my_data['smoking_status'][my_data['smoking_status'] == 'formerly smoked'] = 0\n",
    "my_data['smoking_status'][my_data['smoking_status'] == 'never smoked'] = 1\n",
    "my_data['smoking_status'][my_data['smoking_status'] == 'smokes'] = 2\n",
    "my_data['smoking_status'][my_data['smoking_status'] == 'Unknown'] = 3\n",
    "\n",
    "\n",
    "my_data.head()\n",
    "\n",
    "print(my_data.dtypes)\n",
    "\n"
   ]
  },
  {
   "cell_type": "code",
   "execution_count": 91,
   "id": "7bb7060a",
   "metadata": {},
   "outputs": [
    {
     "data": {
      "text/plain": [
       "gender               False\n",
       "age                  False\n",
       "hypertension         False\n",
       "heart_disease        False\n",
       "ever_married         False\n",
       "work_type            False\n",
       "Residence_type       False\n",
       "avg_glucose_level    False\n",
       "bmi                  False\n",
       "smoking_status       False\n",
       "stroke               False\n",
       "dtype: bool"
      ]
     },
     "execution_count": 91,
     "metadata": {},
     "output_type": "execute_result"
    }
   ],
   "source": [
    "my_data.isnull().sum()\n",
    "my_data.isna().any()\n",
    "\n",
    "#we use this code if it had missing values\n",
    "#use the simpleImputer function to replace missing values\n",
    "#imputer=SimpleImputer(strategy='mean')\n",
    "#imputer.fit(my_data)\n",
    "#new_data=imputer.transform(my_data)\n",
    "#my_data=pd.DataFrame(new_data,columns=new_header_names)"
   ]
  },
  {
   "cell_type": "code",
   "execution_count": 92,
   "id": "e859a1ed",
   "metadata": {},
   "outputs": [
    {
     "name": "stdout",
     "output_type": "stream",
     "text": [
      "(4981, 11)\n",
      "0\n"
     ]
    },
    {
     "data": {
      "text/plain": [
       "(4981, 11)"
      ]
     },
     "execution_count": 92,
     "metadata": {},
     "output_type": "execute_result"
    }
   ],
   "source": [
    "print(my_data.shape)\n",
    "#Count duplicate in a DataFrame\n",
    "print(my_data.duplicated().sum())\n",
    "\n",
    "# Count the number of non-duplicates\n",
    "#print(~my_data.duplicated().sum())\n",
    "\n",
    "\n",
    "#my_data.drop_duplicates(inplace=True)\n",
    "my_data.shape\n",
    "#There is not any dublicate value"
   ]
  },
  {
   "cell_type": "code",
   "execution_count": 93,
   "id": "c4cd2fb9",
   "metadata": {},
   "outputs": [
    {
     "name": "stdout",
     "output_type": "stream",
     "text": [
      "Data types are: \n",
      "dataset before changing objects to numeric\n",
      "gender                object\n",
      "age                  float64\n",
      "hypertension           int64\n",
      "heart_disease          int64\n",
      "ever_married          object\n",
      "work_type             object\n",
      "Residence_type        object\n",
      "avg_glucose_level    float64\n",
      "bmi                  float64\n",
      "smoking_status        object\n",
      "stroke                 int64\n",
      "dtype: object\n",
      "---------------------------------------------------\n",
      "dataset after changing objects to numeric\n",
      "gender                 int64\n",
      "age                  float64\n",
      "hypertension           int64\n",
      "heart_disease          int64\n",
      "ever_married           int64\n",
      "work_type              int64\n",
      "Residence_type         int64\n",
      "avg_glucose_level    float64\n",
      "bmi                  float64\n",
      "smoking_status         int64\n",
      "stroke                 int64\n",
      "dtype: object\n",
      "---------------------------------------------------\n",
      "dataset after changing int to float\n",
      "gender               float64\n",
      "age                  float64\n",
      "hypertension         float64\n",
      "heart_disease        float64\n",
      "ever_married         float64\n",
      "work_type            float64\n",
      "Residence_type       float64\n",
      "avg_glucose_level    float64\n",
      "bmi                  float64\n",
      "smoking_status       float64\n",
      "stroke               float64\n",
      "dtype: object\n",
      "---------------------------------------------------\n"
     ]
    },
    {
     "name": "stderr",
     "output_type": "stream",
     "text": [
      "<ipython-input-93-8d243c152bdb>:17: DeprecationWarning: `np.float` is a deprecated alias for the builtin `float`. To silence this warning, use `float` by itself. Doing this will not modify any behavior and is safe. If you specifically wanted the numpy scalar type, use `np.float64` here.\n",
      "Deprecated in NumPy 1.20; for more details and guidance: https://numpy.org/devdocs/release/1.20.0-notes.html#deprecations\n",
      "  my_data=my_data.applymap(np.float)\n"
     ]
    }
   ],
   "source": [
    "\n",
    "print(\"Data types are: \")\n",
    "print(\"dataset before changing objects to numeric\")\n",
    "print(my_data.dtypes)\n",
    "print(\"---------------------------------------------------\")\n",
    "#print(my_data.dtypes)\n",
    "my_data['gender']=pd.to_numeric(my_data['gender'], errors='coerce')\n",
    "my_data['ever_married']=pd.to_numeric(my_data['ever_married'], errors='coerce')\n",
    "my_data['work_type']=pd.to_numeric(my_data['work_type'], errors='coerce')\n",
    "my_data['Residence_type']=pd.to_numeric(my_data['Residence_type'], errors='coerce')\n",
    "my_data['smoking_status']=pd.to_numeric(my_data['smoking_status'], errors='coerce')\n",
    "\n",
    "\n",
    "print(\"dataset after changing objects to numeric\")\n",
    "print(my_data.dtypes)\n",
    "print(\"---------------------------------------------------\")\n",
    "\n",
    "my_data=my_data.applymap(np.float)\n",
    "\n",
    "print(\"dataset after changing int to float\")\n",
    "print(my_data.dtypes)\n",
    "print(\"---------------------------------------------------\")\n",
    "\n"
   ]
  },
  {
   "cell_type": "code",
   "execution_count": 94,
   "id": "1038e351",
   "metadata": {},
   "outputs": [
    {
     "data": {
      "text/plain": [
       "<bound method NDFrame.head of       gender   age  hypertension  heart_disease  ever_married  work_type  Residence_type  avg_glucose_level   bmi  smoking_status  stroke\n",
       "0        0.0  67.0           0.0            1.0           0.0        0.0             0.0             228.69  36.6             0.0     1.0\n",
       "1        0.0  80.0           0.0            1.0           0.0        0.0             1.0             105.92  32.5             1.0     1.0\n",
       "2        1.0  49.0           0.0            0.0           0.0        0.0             0.0             171.23  34.4             2.0     1.0\n",
       "3        1.0  79.0           1.0            0.0           0.0        1.0             1.0             174.12  24.0             1.0     1.0\n",
       "4        0.0  81.0           0.0            0.0           0.0        0.0             0.0             186.21  29.0             0.0     1.0\n",
       "...      ...   ...           ...            ...           ...        ...             ...                ...   ...             ...     ...\n",
       "4976     0.0  41.0           0.0            0.0           1.0        0.0             1.0              70.15  29.8             0.0     0.0\n",
       "4977     0.0  40.0           0.0            0.0           0.0        0.0             0.0             191.15  31.1             2.0     0.0\n",
       "4978     1.0  45.0           1.0            0.0           0.0        2.0             1.0              95.02  31.8             2.0     0.0\n",
       "4979     0.0  40.0           0.0            0.0           0.0        0.0             1.0              83.94  30.0             2.0     0.0\n",
       "4980     1.0  80.0           1.0            0.0           0.0        0.0             0.0              83.75  29.1             1.0     0.0\n",
       "\n",
       "[4981 rows x 11 columns]>"
      ]
     },
     "execution_count": 94,
     "metadata": {},
     "output_type": "execute_result"
    }
   ],
   "source": [
    "my_data.head"
   ]
  },
  {
   "cell_type": "code",
   "execution_count": 95,
   "id": "6247f2cd",
   "metadata": {},
   "outputs": [
    {
     "data": {
      "text/html": [
       "<div>\n",
       "<style scoped>\n",
       "    .dataframe tbody tr th:only-of-type {\n",
       "        vertical-align: middle;\n",
       "    }\n",
       "\n",
       "    .dataframe tbody tr th {\n",
       "        vertical-align: top;\n",
       "    }\n",
       "\n",
       "    .dataframe thead th {\n",
       "        text-align: right;\n",
       "    }\n",
       "</style>\n",
       "<table border=\"1\" class=\"dataframe\">\n",
       "  <thead>\n",
       "    <tr style=\"text-align: right;\">\n",
       "      <th></th>\n",
       "      <th>gender</th>\n",
       "      <th>age</th>\n",
       "      <th>hypertension</th>\n",
       "      <th>heart_disease</th>\n",
       "      <th>ever_married</th>\n",
       "      <th>work_type</th>\n",
       "      <th>Residence_type</th>\n",
       "      <th>avg_glucose_level</th>\n",
       "      <th>bmi</th>\n",
       "      <th>smoking_status</th>\n",
       "      <th>stroke</th>\n",
       "    </tr>\n",
       "  </thead>\n",
       "  <tbody>\n",
       "    <tr>\n",
       "      <th>count</th>\n",
       "      <td>4981.000000</td>\n",
       "      <td>4981.000000</td>\n",
       "      <td>4981.000000</td>\n",
       "      <td>4981.000000</td>\n",
       "      <td>4981.000000</td>\n",
       "      <td>4981.000000</td>\n",
       "      <td>4981.000000</td>\n",
       "      <td>4981.000000</td>\n",
       "      <td>4981.000000</td>\n",
       "      <td>4981.000000</td>\n",
       "      <td>4981.000000</td>\n",
       "    </tr>\n",
       "    <tr>\n",
       "      <th>mean</th>\n",
       "      <td>0.583618</td>\n",
       "      <td>43.419859</td>\n",
       "      <td>0.096165</td>\n",
       "      <td>0.055210</td>\n",
       "      <td>0.341498</td>\n",
       "      <td>0.825336</td>\n",
       "      <td>0.491668</td>\n",
       "      <td>105.943562</td>\n",
       "      <td>28.498173</td>\n",
       "      <td>1.584019</td>\n",
       "      <td>0.049789</td>\n",
       "    </tr>\n",
       "    <tr>\n",
       "      <th>std</th>\n",
       "      <td>0.493008</td>\n",
       "      <td>22.662755</td>\n",
       "      <td>0.294848</td>\n",
       "      <td>0.228412</td>\n",
       "      <td>0.474260</td>\n",
       "      <td>1.101664</td>\n",
       "      <td>0.499981</td>\n",
       "      <td>45.075373</td>\n",
       "      <td>6.790464</td>\n",
       "      <td>1.092516</td>\n",
       "      <td>0.217531</td>\n",
       "    </tr>\n",
       "    <tr>\n",
       "      <th>min</th>\n",
       "      <td>0.000000</td>\n",
       "      <td>0.080000</td>\n",
       "      <td>0.000000</td>\n",
       "      <td>0.000000</td>\n",
       "      <td>0.000000</td>\n",
       "      <td>0.000000</td>\n",
       "      <td>0.000000</td>\n",
       "      <td>55.120000</td>\n",
       "      <td>14.000000</td>\n",
       "      <td>0.000000</td>\n",
       "      <td>0.000000</td>\n",
       "    </tr>\n",
       "    <tr>\n",
       "      <th>25%</th>\n",
       "      <td>0.000000</td>\n",
       "      <td>25.000000</td>\n",
       "      <td>0.000000</td>\n",
       "      <td>0.000000</td>\n",
       "      <td>0.000000</td>\n",
       "      <td>0.000000</td>\n",
       "      <td>0.000000</td>\n",
       "      <td>77.230000</td>\n",
       "      <td>23.700000</td>\n",
       "      <td>1.000000</td>\n",
       "      <td>0.000000</td>\n",
       "    </tr>\n",
       "    <tr>\n",
       "      <th>50%</th>\n",
       "      <td>1.000000</td>\n",
       "      <td>45.000000</td>\n",
       "      <td>0.000000</td>\n",
       "      <td>0.000000</td>\n",
       "      <td>0.000000</td>\n",
       "      <td>0.000000</td>\n",
       "      <td>0.000000</td>\n",
       "      <td>91.850000</td>\n",
       "      <td>28.100000</td>\n",
       "      <td>1.000000</td>\n",
       "      <td>0.000000</td>\n",
       "    </tr>\n",
       "    <tr>\n",
       "      <th>75%</th>\n",
       "      <td>1.000000</td>\n",
       "      <td>61.000000</td>\n",
       "      <td>0.000000</td>\n",
       "      <td>0.000000</td>\n",
       "      <td>1.000000</td>\n",
       "      <td>2.000000</td>\n",
       "      <td>1.000000</td>\n",
       "      <td>113.860000</td>\n",
       "      <td>32.600000</td>\n",
       "      <td>3.000000</td>\n",
       "      <td>0.000000</td>\n",
       "    </tr>\n",
       "    <tr>\n",
       "      <th>max</th>\n",
       "      <td>1.000000</td>\n",
       "      <td>82.000000</td>\n",
       "      <td>1.000000</td>\n",
       "      <td>1.000000</td>\n",
       "      <td>1.000000</td>\n",
       "      <td>3.000000</td>\n",
       "      <td>1.000000</td>\n",
       "      <td>271.740000</td>\n",
       "      <td>48.900000</td>\n",
       "      <td>3.000000</td>\n",
       "      <td>1.000000</td>\n",
       "    </tr>\n",
       "  </tbody>\n",
       "</table>\n",
       "</div>"
      ],
      "text/plain": [
       "            gender          age  hypertension  heart_disease  ever_married    work_type  Residence_type  avg_glucose_level          bmi  smoking_status       stroke\n",
       "count  4981.000000  4981.000000   4981.000000    4981.000000   4981.000000  4981.000000     4981.000000        4981.000000  4981.000000     4981.000000  4981.000000\n",
       "mean      0.583618    43.419859      0.096165       0.055210      0.341498     0.825336        0.491668         105.943562    28.498173        1.584019     0.049789\n",
       "std       0.493008    22.662755      0.294848       0.228412      0.474260     1.101664        0.499981          45.075373     6.790464        1.092516     0.217531\n",
       "min       0.000000     0.080000      0.000000       0.000000      0.000000     0.000000        0.000000          55.120000    14.000000        0.000000     0.000000\n",
       "25%       0.000000    25.000000      0.000000       0.000000      0.000000     0.000000        0.000000          77.230000    23.700000        1.000000     0.000000\n",
       "50%       1.000000    45.000000      0.000000       0.000000      0.000000     0.000000        0.000000          91.850000    28.100000        1.000000     0.000000\n",
       "75%       1.000000    61.000000      0.000000       0.000000      1.000000     2.000000        1.000000         113.860000    32.600000        3.000000     0.000000\n",
       "max       1.000000    82.000000      1.000000       1.000000      1.000000     3.000000        1.000000         271.740000    48.900000        3.000000     1.000000"
      ]
     },
     "execution_count": 95,
     "metadata": {},
     "output_type": "execute_result"
    }
   ],
   "source": [
    "my_data.describe()\n"
   ]
  },
  {
   "cell_type": "code",
   "execution_count": 96,
   "id": "b3e77ea5",
   "metadata": {},
   "outputs": [
    {
     "name": "stdout",
     "output_type": "stream",
     "text": [
      "------Median in csv fil:------\n",
      "gender                1.00\n",
      "age                  45.00\n",
      "hypertension          0.00\n",
      "heart_disease         0.00\n",
      "ever_married          0.00\n",
      "work_type             0.00\n",
      "Residence_type        0.00\n",
      "avg_glucose_level    91.85\n",
      "bmi                  28.10\n",
      "smoking_status        1.00\n",
      "stroke                0.00\n",
      "dtype: float64\n",
      "------Mean in csv fil:-------\n",
      "gender                 0.583618\n",
      "age                   43.419859\n",
      "hypertension           0.096165\n",
      "heart_disease          0.055210\n",
      "ever_married           0.341498\n",
      "work_type              0.825336\n",
      "Residence_type         0.491668\n",
      "avg_glucose_level    105.943562\n",
      "bmi                   28.498173\n",
      "smoking_status         1.584019\n",
      "stroke                 0.049789\n",
      "dtype: float64\n",
      "------Mode in csv fil:-------\n",
      "   gender   age  hypertension  heart_disease  ever_married  work_type  Residence_type  avg_glucose_level   bmi  smoking_status  stroke\n",
      "0     1.0  78.0           0.0            0.0           0.0        0.0             0.0              93.88  28.7             1.0     0.0\n"
     ]
    }
   ],
   "source": [
    "\n",
    "print(\"------Median in csv fil:------\")\n",
    "print(my_data.median(numeric_only=True))\n",
    "\n",
    "print(\"------Mean in csv fil:-------\")\n",
    "print(my_data.mean(numeric_only=True))\n",
    "\n",
    "print(\"------Mode in csv fil:-------\")\n",
    "print(my_data.mode(numeric_only=True))"
   ]
  },
  {
   "cell_type": "code",
   "execution_count": 97,
   "id": "aaef26c9",
   "metadata": {},
   "outputs": [
    {
     "name": "stdout",
     "output_type": "stream",
     "text": [
      "gender              -0.339351\n",
      "age                 -0.144001\n",
      "hypertension         2.740377\n",
      "heart_disease        3.896191\n",
      "ever_married         0.668689\n",
      "work_type            0.955789\n",
      "Residence_type       0.033341\n",
      "avg_glucose_level    1.587526\n",
      "bmi                  0.371553\n",
      "smoking_status       0.077397\n",
      "stroke               4.140942\n",
      "dtype: float64\n",
      "-----------------------------\n"
     ]
    }
   ],
   "source": [
    "#checking for skewness in cryptos data\n",
    "print(my_data.skew())\n",
    "print(\"-----------------------------\")\n"
   ]
  },
  {
   "cell_type": "code",
   "execution_count": 98,
   "id": "6cfd6b32",
   "metadata": {},
   "outputs": [
    {
     "data": {
      "image/png": "[encoded data removed]",
      "text/plain": [
       "<Figure size 576x576 with 1 Axes>"
      ]
     },
     "metadata": {
      "needs_background": "light"
     },
     "output_type": "display_data"
    },
    {
     "data": {
      "image/png": "[encoded data removed]",
      "text/plain": [
       "<Figure size 576x576 with 1 Axes>"
      ]
     },
     "metadata": {
      "needs_background": "light"
     },
     "output_type": "display_data"
    }
   ],
   "source": [
    "my_data[\"gender\"].plot.kde()\n",
    "plt.show()\n",
    "my_data.boxplot(column=[\"gender\"])\n",
    "\n",
    "plt.rcParams[\"figure.figsize\"] = [2,2]\n",
    "plt.rcParams[\"figure.autolayout\"] = True\n",
    "plt.show()"
   ]
  },
  {
   "cell_type": "code",
   "execution_count": 99,
   "id": "689abf33",
   "metadata": {},
   "outputs": [
    {
     "data": {
      "image/png": "[encoded data removed]",
      "text/plain": [
       "<Figure size 144x144 with 1 Axes>"
      ]
     },
     "metadata": {
      "needs_background": "light"
     },
     "output_type": "display_data"
    },
    {
     "data": {
      "image/png": "[encoded data removed]",
      "text/plain": [
       "<Figure size 144x144 with 1 Axes>"
      ]
     },
     "metadata": {
      "needs_background": "light"
     },
     "output_type": "display_data"
    }
   ],
   "source": [
    "#visualising our data\n",
    "\n",
    "#pd.set_option('display.width',1000)\n",
    "#pd.set_option('display.precision',2)\n",
    "my_data[\"age\"].plot.kde()\n",
    "plt.show()\n",
    "#Age is normally distributed\n",
    "\n",
    "my_data.boxplot(column=[\"age\"])\n",
    "\n",
    "plt.rcParams[\"figure.figsize\"] = [5,5]\n",
    "plt.rcParams[\"figure.autolayout\"] = True\n",
    "\n",
    "plt.show()\n",
    "#age doesn't have any outliers\n"
   ]
  },
  {
   "cell_type": "code",
   "execution_count": 100,
   "id": "bebc968f",
   "metadata": {
    "scrolled": true
   },
   "outputs": [
    {
     "data": {
      "image/png": "[encoded data removed]",
      "text/plain": [
       "<Figure size 360x360 with 1 Axes>"
      ]
     },
     "metadata": {
      "needs_background": "light"
     },
     "output_type": "display_data"
    },
    {
     "data": {
      "image/png": "[encoded data removed]",
      "text/plain": [
       "<Figure size 360x360 with 1 Axes>"
      ]
     },
     "metadata": {
      "needs_background": "light"
     },
     "output_type": "display_data"
    }
   ],
   "source": [
    "my_data[\"hypertension\"].plot.kde()\n",
    "plt.show()\n",
    "\n",
    "my_data.boxplot(column=[\"hypertension\"])\n",
    "plt.rcParams[\"figure.figsize\"] = [2,2]\n",
    "plt.rcParams[\"figure.autolayout\"] = True\n",
    "plt.show()"
   ]
  },
  {
   "cell_type": "code",
   "execution_count": 101,
   "id": "d57bc34e",
   "metadata": {},
   "outputs": [
    {
     "data": {
      "image/png": "[encoded data removed]",
      "text/plain": [
       "<Figure size 144x144 with 1 Axes>"
      ]
     },
     "metadata": {
      "needs_background": "light"
     },
     "output_type": "display_data"
    },
    {
     "data": {
      "image/png": "[encoded data removed]",
      "text/plain": [
       "<Figure size 144x144 with 1 Axes>"
      ]
     },
     "metadata": {
      "needs_background": "light"
     },
     "output_type": "display_data"
    }
   ],
   "source": [
    "my_data[\"heart_disease\"].plot.kde()\n",
    "plt.show()\n",
    "\n",
    "my_data.boxplot(column=[\"heart_disease\"])\n",
    "plt.rcParams[\"figure.figsize\"] = [2,2]\n",
    "plt.rcParams[\"figure.autolayout\"] = True\n",
    "plt.show()"
   ]
  },
  {
   "cell_type": "code",
   "execution_count": 102,
   "id": "be84c9b0",
   "metadata": {},
   "outputs": [
    {
     "data": {
      "image/png": "[encoded data removed]",
      "text/plain": [
       "<Figure size 144x144 with 1 Axes>"
      ]
     },
     "metadata": {
      "needs_background": "light"
     },
     "output_type": "display_data"
    },
    {
     "data": {
      "image/png": "[encoded data removed]",
      "text/plain": [
       "<Figure size 144x144 with 1 Axes>"
      ]
     },
     "metadata": {
      "needs_background": "light"
     },
     "output_type": "display_data"
    }
   ],
   "source": [
    "my_data[\"ever_married\"].plot.kde()\n",
    "plt.show()\n",
    "\n",
    "my_data.boxplot(column=[\"ever_married\"])\n",
    "plt.rcParams[\"figure.figsize\"] = [2,2]\n",
    "plt.rcParams[\"figure.autolayout\"] = True\n",
    "plt.show()"
   ]
  },
  {
   "cell_type": "code",
   "execution_count": 103,
   "id": "2305bab9",
   "metadata": {},
   "outputs": [
    {
     "data": {
      "image/png": "[encoded data removed]",
      "text/plain": [
       "<Figure size 144x144 with 1 Axes>"
      ]
     },
     "metadata": {
      "needs_background": "light"
     },
     "output_type": "display_data"
    },
    {
     "data": {
      "image/png": "[encoded data removed]",
      "text/plain": [
       "<Figure size 144x144 with 1 Axes>"
      ]
     },
     "metadata": {
      "needs_background": "light"
     },
     "output_type": "display_data"
    }
   ],
   "source": [
    "my_data[\"work_type\"].plot.kde()\n",
    "plt.show()\n",
    "\n",
    "my_data.boxplot(column=[\"work_type\"])\n",
    "plt.rcParams[\"figure.figsize\"] = [2,2]\n",
    "plt.rcParams[\"figure.autolayout\"] = True\n",
    "plt.show()"
   ]
  },
  {
   "cell_type": "code",
   "execution_count": 104,
   "id": "3b67c70c",
   "metadata": {},
   "outputs": [
    {
     "data": {
      "image/png": "[encoded data removed]",
      "text/plain": [
       "<Figure size 144x144 with 1 Axes>"
      ]
     },
     "metadata": {
      "needs_background": "light"
     },
     "output_type": "display_data"
    },
    {
     "data": {
      "image/png": "[encoded data removed]",
      "text/plain": [
       "<Figure size 144x144 with 1 Axes>"
      ]
     },
     "metadata": {
      "needs_background": "light"
     },
     "output_type": "display_data"
    }
   ],
   "source": [
    "my_data[\"Residence_type\"].plot.kde()\n",
    "plt.show()\n",
    "\n",
    "\n",
    "my_data.boxplot(column=[\"Residence_type\"])\n",
    "plt.rcParams[\"figure.figsize\"] = [2,2]\n",
    "plt.rcParams[\"figure.autolayout\"] = True\n",
    "plt.show()"
   ]
  },
  {
   "cell_type": "code",
   "execution_count": 105,
   "id": "4157d1d4",
   "metadata": {},
   "outputs": [
    {
     "data": {
      "image/png": "[encoded data removed]",
      "text/plain": [
       "<Figure size 144x144 with 1 Axes>"
      ]
     },
     "metadata": {
      "needs_background": "light"
     },
     "output_type": "display_data"
    },
    {
     "data": {
      "image/png": "[encoded data removed]",
      "text/plain": [
       "<Figure size 144x144 with 1 Axes>"
      ]
     },
     "metadata": {
      "needs_background": "light"
     },
     "output_type": "display_data"
    }
   ],
   "source": [
    "my_data[\"avg_glucose_level\"].plot.kde()\n",
    "plt.show()\n",
    "\n",
    "my_data.boxplot(column=[\"avg_glucose_level\"])\n",
    "plt.rcParams[\"figure.figsize\"] = [2,2]\n",
    "plt.rcParams[\"figure.autolayout\"] = True\n",
    "plt.show()"
   ]
  },
  {
   "cell_type": "code",
   "execution_count": 106,
   "id": "4f09ca4f",
   "metadata": {},
   "outputs": [
    {
     "data": {
      "image/png": "[encoded data removed]",
      "text/plain": [
       "<Figure size 144x144 with 1 Axes>"
      ]
     },
     "metadata": {
      "needs_background": "light"
     },
     "output_type": "display_data"
    },
    {
     "data": {
      "image/png": "[encoded data removed]",
      "text/plain": [
       "<Figure size 144x144 with 1 Axes>"
      ]
     },
     "metadata": {
      "needs_background": "light"
     },
     "output_type": "display_data"
    }
   ],
   "source": [
    "my_data[\"bmi\"].plot.kde()\n",
    "plt.show()\n",
    "\n",
    "my_data.boxplot(column=[\"bmi\"])\n",
    "plt.rcParams[\"figure.figsize\"] = [2,2]\n",
    "plt.rcParams[\"figure.autolayout\"] = True\n",
    "plt.show()"
   ]
  },
  {
   "cell_type": "code",
   "execution_count": 107,
   "id": "0400dc0f",
   "metadata": {},
   "outputs": [
    {
     "data": {
      "image/png": "[encoded data removed]",
      "text/plain": [
       "<Figure size 144x144 with 1 Axes>"
      ]
     },
     "metadata": {
      "needs_background": "light"
     },
     "output_type": "display_data"
    },
    {
     "data": {
      "image/png": "[encoded data removed]",
      "text/plain": [
       "<Figure size 144x144 with 1 Axes>"
      ]
     },
     "metadata": {
      "needs_background": "light"
     },
     "output_type": "display_data"
    }
   ],
   "source": [
    "my_data[\"smoking_status\"].plot.kde()\n",
    "plt.show()\n",
    "\n",
    "my_data.boxplot(column=[\"smoking_status\"])\n",
    "plt.rcParams[\"figure.figsize\"] = [2,2]\n",
    "plt.rcParams[\"figure.autolayout\"] = True\n",
    "plt.show()"
   ]
  },
  {
   "cell_type": "code",
   "execution_count": 108,
   "id": "133c7fc8",
   "metadata": {
    "scrolled": false
   },
   "outputs": [
    {
     "name": "stdout",
     "output_type": "stream",
     "text": [
      "\n",
      " My Normalized data \n",
      " [[0.   0.2  0.   0.   0.   0.   0.   0.68 0.11 0.   0.  ]\n",
      " [0.   0.36 0.   0.   0.   0.   0.   0.48 0.15 0.   0.  ]\n",
      " [0.   0.19 0.   0.   0.   0.   0.   0.66 0.13 0.01 0.  ]]\n"
     ]
    }
   ],
   "source": [
    "#We realised most of our data is not normally distributes\n",
    "#This peace of code will normalised out dataset\n",
    "#but at the moment we don't need this part \n",
    "from sklearn.preprocessing import Normalizer\n",
    "from numpy import set_printoptions\n",
    "my_data_normalizer=Normalizer(norm='l1').fit(my_data)\n",
    "my_normalised_data=my_data_normalizer.transform(my_data)\n",
    "\n",
    "\n",
    "set_printoptions(precision=2)\n",
    "print(\"\\n My Normalized data \\n\", my_normalised_data[0:3])"
   ]
  },
  {
   "cell_type": "code",
   "execution_count": 109,
   "id": "e7fa4f9a",
   "metadata": {
    "scrolled": true
   },
   "outputs": [
    {
     "name": "stderr",
     "output_type": "stream",
     "text": [
      "C:\\Users\\nastaran\\anaconda3\\lib\\site-packages\\IPython\\core\\pylabtools.py:132: UserWarning: Tight layout not applied. tight_layout cannot make axes width small enough to accommodate all axes decorations\n",
      "  fig.canvas.print_figure(bytes_io, **kw)\n"
     ]
    },
    {
     "data": {
      "image/png": "[encoded data removed]",
      "text/plain": [
       "<Figure size 144x144 with 12 Axes>"
      ]
     },
     "metadata": {
      "needs_background": "light"
     },
     "output_type": "display_data"
    }
   ],
   "source": [
    "#visualising our data for ticker\n",
    "pd.set_option('display.width',1000)\n",
    "my_data.hist()\n",
    "plt.rcParams[\"figure.figsize\"] = [8,8]\n",
    "plt.rcParams[\"figure.autolayout\"] = True\n",
    "plt.show()"
   ]
  },
  {
   "cell_type": "code",
   "execution_count": 110,
   "id": "27b61b95",
   "metadata": {
    "scrolled": true
   },
   "outputs": [
    {
     "data": {
      "text/plain": [
       "array([-1.88, -1.  ,  5.51, 13.17, -1.55, -0.6 , -2.  ,  1.75, -0.14,\n",
       "       -1.35, 15.14])"
      ]
     },
     "execution_count": 110,
     "metadata": {},
     "output_type": "execute_result"
    }
   ],
   "source": [
    "import scipy.stats as stats\n",
    "\n",
    "from scipy.stats import kurtosis\n",
    "kurtosis(my_data)"
   ]
  },
  {
   "cell_type": "code",
   "execution_count": 111,
   "id": "2dc1b25b",
   "metadata": {},
   "outputs": [
    {
     "data": {
      "image/png": "[encoded data removed]",
      "text/plain": [
       "<Figure size 576x576 with 2 Axes>"
      ]
     },
     "metadata": {
      "needs_background": "light"
     },
     "output_type": "display_data"
    }
   ],
   "source": [
    "\n",
    "#Create a Correlation Matrix using Pandas\n",
    "corrMatrix_for_all=my_data.corr()\n",
    "#print(corrMatrix_for_all)\n",
    "#Get a Visual Representation of the Correlation Matrix using Seaborn and Matplotlib\n",
    "import seaborn as sn\n",
    "import matplotlib.pyplot as plt\n",
    "\n",
    "sn.heatmap(corrMatrix_for_all, annot=True)\n",
    "plt.rcParams[\"figure.figsize\"] = [13,13]\n",
    "plt.rcParams[\"figure.autolayout\"] = True\n",
    "plt.show()\n"
   ]
  },
  {
   "cell_type": "code",
   "execution_count": 112,
   "id": "80db04f5",
   "metadata": {},
   "outputs": [
    {
     "data": {
      "text/html": [
       "<style  type=\"text/css\" >\n",
       "#T_2e101_row0_col0{\n",
       "            background-color:  #fff3ae;\n",
       "            color:  #000000;\n",
       "        }#T_2e101_row1_col0{\n",
       "            background-color:  #fec45f;\n",
       "            color:  #000000;\n",
       "        }#T_2e101_row2_col0,#T_2e101_row7_col0{\n",
       "            background-color:  #fede82;\n",
       "            color:  #000000;\n",
       "        }#T_2e101_row3_col0{\n",
       "            background-color:  #fede80;\n",
       "            color:  #000000;\n",
       "        }#T_2e101_row4_col0{\n",
       "            background-color:  #ffffcc;\n",
       "            color:  #000000;\n",
       "        }#T_2e101_row5_col0{\n",
       "            background-color:  #fff9bd;\n",
       "            color:  #000000;\n",
       "        }#T_2e101_row6_col0{\n",
       "            background-color:  #fff3af;\n",
       "            color:  #000000;\n",
       "        }#T_2e101_row8_col0{\n",
       "            background-color:  #ffe998;\n",
       "            color:  #000000;\n",
       "        }#T_2e101_row9_col0{\n",
       "            background-color:  #fffac0;\n",
       "            color:  #000000;\n",
       "        }#T_2e101_row10_col0{\n",
       "            background-color:  #800026;\n",
       "            color:  #f1f1f1;\n",
       "        }</style><table id=\"T_2e101_\" ><thead>    <tr>        <th class=\"blank level0\" ></th>        <th class=\"col_heading level0 col0\" >stroke</th>    </tr></thead><tbody>\n",
       "                <tr>\n",
       "                        <th id=\"T_2e101_level0_row0\" class=\"row_heading level0 row0\" >gender</th>\n",
       "                        <td id=\"T_2e101_row0_col0\" class=\"data row0 col0\" >-0.01</td>\n",
       "            </tr>\n",
       "            <tr>\n",
       "                        <th id=\"T_2e101_level0_row1\" class=\"row_heading level0 row1\" >age</th>\n",
       "                        <td id=\"T_2e101_row1_col0\" class=\"data row1 col0\" >0.25</td>\n",
       "            </tr>\n",
       "            <tr>\n",
       "                        <th id=\"T_2e101_level0_row2\" class=\"row_heading level0 row2\" >hypertension</th>\n",
       "                        <td id=\"T_2e101_row2_col0\" class=\"data row2 col0\" >0.13</td>\n",
       "            </tr>\n",
       "            <tr>\n",
       "                        <th id=\"T_2e101_level0_row3\" class=\"row_heading level0 row3\" >heart_disease</th>\n",
       "                        <td id=\"T_2e101_row3_col0\" class=\"data row3 col0\" >0.13</td>\n",
       "            </tr>\n",
       "            <tr>\n",
       "                        <th id=\"T_2e101_level0_row4\" class=\"row_heading level0 row4\" >ever_married</th>\n",
       "                        <td id=\"T_2e101_row4_col0\" class=\"data row4 col0\" >-0.11</td>\n",
       "            </tr>\n",
       "            <tr>\n",
       "                        <th id=\"T_2e101_level0_row5\" class=\"row_heading level0 row5\" >work_type</th>\n",
       "                        <td id=\"T_2e101_row5_col0\" class=\"data row5 col0\" >-0.06</td>\n",
       "            </tr>\n",
       "            <tr>\n",
       "                        <th id=\"T_2e101_level0_row6\" class=\"row_heading level0 row6\" >Residence_type</th>\n",
       "                        <td id=\"T_2e101_row6_col0\" class=\"data row6 col0\" >-0.02</td>\n",
       "            </tr>\n",
       "            <tr>\n",
       "                        <th id=\"T_2e101_level0_row7\" class=\"row_heading level0 row7\" >avg_glucose_level</th>\n",
       "                        <td id=\"T_2e101_row7_col0\" class=\"data row7 col0\" >0.13</td>\n",
       "            </tr>\n",
       "            <tr>\n",
       "                        <th id=\"T_2e101_level0_row8\" class=\"row_heading level0 row8\" >bmi</th>\n",
       "                        <td id=\"T_2e101_row8_col0\" class=\"data row8 col0\" >0.06</td>\n",
       "            </tr>\n",
       "            <tr>\n",
       "                        <th id=\"T_2e101_level0_row9\" class=\"row_heading level0 row9\" >smoking_status</th>\n",
       "                        <td id=\"T_2e101_row9_col0\" class=\"data row9 col0\" >-0.07</td>\n",
       "            </tr>\n",
       "            <tr>\n",
       "                        <th id=\"T_2e101_level0_row10\" class=\"row_heading level0 row10\" >stroke</th>\n",
       "                        <td id=\"T_2e101_row10_col0\" class=\"data row10 col0\" >1.00</td>\n",
       "            </tr>\n",
       "    </tbody></table>"
      ],
      "text/plain": [
       "<pandas.io.formats.style.Styler at 0x1e20b54a850>"
      ]
     },
     "execution_count": 112,
     "metadata": {},
     "output_type": "execute_result"
    }
   ],
   "source": [
    "correMatrix_for_stroke=my_data.corr()[['stroke']]\n",
    "correMatrix_for_stroke.style.background_gradient(cmap='YlOrRd').set_precision(2)\n"
   ]
  },
  {
   "cell_type": "code",
   "execution_count": 113,
   "id": "e0871901",
   "metadata": {},
   "outputs": [],
   "source": [
    "#bivariate Analysis\n",
    "#correlation image shows that age,hypertension, heart disease and avarage glucose leve;es are correlated with stroke\n"
   ]
  },
  {
   "cell_type": "code",
   "execution_count": 114,
   "id": "67524286",
   "metadata": {
    "scrolled": true
   },
   "outputs": [
    {
     "data": {
      "image/png": "[encoded data removed]",
      "text/plain": [
       "<Figure size 936x936 with 1 Axes>"
      ]
     },
     "metadata": {
      "needs_background": "light"
     },
     "output_type": "display_data"
    }
   ],
   "source": [
    "#Bivariate age and stroke\n",
    "import seaborn as sns\n",
    "ax=sns.boxplot(x='stroke', y='age', data=my_data, width=0.5)\n",
    "ax.set(xlabel='stroke', ylabel='age')\n",
    "plt.rcParams[\"figure.figsize\"] = [2,2]\n",
    "plt.rcParams[\"figure.autolayout\"] = True\n",
    "plt.show()"
   ]
  },
  {
   "cell_type": "code",
   "execution_count": 115,
   "id": "d53ec295",
   "metadata": {},
   "outputs": [
    {
     "data": {
      "image/png": "[encoded data removed]",
      "text/plain": [
       "<Figure size 144x144 with 1 Axes>"
      ]
     },
     "metadata": {
      "needs_background": "light"
     },
     "output_type": "display_data"
    }
   ],
   "source": [
    "#Bivariate heart disease and stroke\n",
    "import seaborn as sns\n",
    "ax=sns.boxplot(x='stroke',y='heart_disease', data=my_data, width=0.5)\n",
    "ax.set(xlabel='stroke', ylabel='heart_disease')\n",
    "plt.rcParams[\"figure.figsize\"] = [10, 10]\n",
    "plt.rcParams[\"figure.autolayout\"] = True\n",
    "plt.show()"
   ]
  },
  {
   "cell_type": "code",
   "execution_count": 116,
   "id": "d15c028f",
   "metadata": {},
   "outputs": [
    {
     "data": {
      "image/png": "[encoded data removed]",
      "text/plain": [
       "<Figure size 720x720 with 1 Axes>"
      ]
     },
     "metadata": {
      "needs_background": "light"
     },
     "output_type": "display_data"
    }
   ],
   "source": [
    "#Bivariate avg_glucose_level and stroke\n",
    "import seaborn as sns\n",
    "ax=sns.boxplot(x='stroke', y='avg_glucose_level', data=my_data, width=0.5)\n",
    "ax.set(xlabel='stroke', ylabel='avg_glucose_level')\n",
    "plt.rcParams[\"figure.figsize\"] = [2,2]\n",
    "plt.rcParams[\"figure.autolayout\"] = True\n",
    "plt.show()"
   ]
  },
  {
   "cell_type": "code",
   "execution_count": 117,
   "id": "a9940b6c",
   "metadata": {},
   "outputs": [
    {
     "data": {
      "image/png": "[encoded data removed]",
      "text/plain": [
       "<Figure size 144x144 with 1 Axes>"
      ]
     },
     "metadata": {
      "needs_background": "light"
     },
     "output_type": "display_data"
    }
   ],
   "source": [
    "#Bivariate heart disease and stroke and avg-#glucose_level\n",
    "import seaborn as sns\n",
    "ax=sns.boxplot(x='stroke', y='avg_glucose_level' , hue='heart_disease', data=my_data, width=0.5, palette = 'husl')\n",
    "ax.set(xlabel='stroke', ylabel='age')\n",
    "plt.rcParams[\"figure.figsize\"] = [8,8]\n",
    "plt.rcParams[\"figure.autolayout\"] = True\n",
    "plt.show()"
   ]
  },
  {
   "cell_type": "code",
   "execution_count": 118,
   "id": "98ab65ca",
   "metadata": {},
   "outputs": [
    {
     "data": {
      "image/png": "[encoded data removed]",
      "text/plain": [
       "<Figure size 576x576 with 1 Axes>"
      ]
     },
     "metadata": {
      "needs_background": "light"
     },
     "output_type": "display_data"
    }
   ],
   "source": [
    "#age, stroke and gender\n",
    "ax=sns.boxplot(x='stroke', y='age' , hue='gender', data=my_data, width=0.5, palette = 'husl')\n",
    "ax.set(xlabel='stroke', ylabel='age')\n",
    "\n",
    "plt.rcParams[\"figure.figsize\"] = [3,3]\n",
    "plt.rcParams[\"figure.autolayout\"] = True\n",
    "plt.show()\n"
   ]
  },
  {
   "cell_type": "code",
   "execution_count": 119,
   "id": "6b3a657e",
   "metadata": {},
   "outputs": [
    {
     "data": {
      "image/png": "[encoded data removed]",
      "text/plain": [
       "<Figure size 216x216 with 1 Axes>"
      ]
     },
     "metadata": {
      "needs_background": "light"
     },
     "output_type": "display_data"
    }
   ],
   "source": [
    "#age, stroke and ever_married\n",
    "ax=sns.boxplot(x='stroke', y='age' , hue='ever_married', data=my_data, width=0.5, palette = 'husl')\n",
    "ax.set(xlabel='stroke', ylabel='ever_married')\n",
    "plt.rcParams[\"figure.figsize\"] = [5, 3.50]\n",
    "plt.rcParams[\"figure.autolayout\"] = True\n",
    "plt.show()"
   ]
  },
  {
   "cell_type": "code",
   "execution_count": 120,
   "id": "a2b2bb91",
   "metadata": {
    "scrolled": true
   },
   "outputs": [
    {
     "data": {
      "image/png": "[encoded data removed]",
      "text/plain": [
       "<Figure size 360x252 with 1 Axes>"
      ]
     },
     "metadata": {
      "needs_background": "light"
     },
     "output_type": "display_data"
    },
    {
     "data": {
      "image/png": "[encoded data removed]",
      "text/plain": [
       "<Figure size 288x144 with 1 Axes>"
      ]
     },
     "metadata": {},
     "output_type": "display_data"
    }
   ],
   "source": [
    "#gender and stroke\n",
    "ax=sns.countplot(x='gender', data=my_data,hue='stroke',saturation=1, dodge=True)\n",
    "\n",
    "plt.legend(['No Stroke','Stroke'])\n",
    "\n",
    "plt.rcParams[\"figure.figsize\"] = [4,2]\n",
    "plt.xlabel('gender')\n",
    "plt.show()\n",
    "\n",
    "my_data.groupby('gender').size().plot(kind='pie',autopct='%.1f%%')\n",
    "plt.ylabel('')\n",
    "plt.show()"
   ]
  },
  {
   "cell_type": "code",
   "execution_count": 121,
   "id": "81fc15a3",
   "metadata": {},
   "outputs": [
    {
     "name": "stdout",
     "output_type": "stream",
     "text": [
      "(4981, 11)\n",
      "(4981,)\n",
      "(4981, 10)\n"
     ]
    }
   ],
   "source": [
    "\n",
    "\n",
    "###data modeling#########\n",
    "from sklearn.model_selection import train_test_split\n",
    "from sklearn.tree import DecisionTreeClassifier\n",
    "print(my_data.shape)\n",
    "y=my_data.pop('stroke')\n",
    "X=my_data\n",
    "print(y.shape)\n",
    "print(X.shape)"
   ]
  },
  {
   "cell_type": "code",
   "execution_count": 122,
   "id": "bb54d9b9",
   "metadata": {
    "scrolled": true
   },
   "outputs": [
    {
     "name": "stdout",
     "output_type": "stream",
     "text": [
      "\n",
      " The total of training dataset (2988, 10)\n",
      "\n",
      " The total of test dataset (1993, 10)\n",
      "-------------\n",
      "[1.]\n"
     ]
    }
   ],
   "source": [
    "#split 60-40 \n",
    "#print(X)\n",
    "#print(y)\n",
    "#splite teh data into train and test  60:40\n",
    "X_train,X_test,y_train,y_test=train_test_split(X,y,test_size=0.4,random_state=1)\n",
    "\n",
    "#check the number of train and test data\n",
    "print('\\n The total of training dataset',X_train.shape)\n",
    "print('\\n The total of test dataset', X_test.shape)\n",
    "\n",
    "#now we can instantiate the model for our model\n",
    "#in this case the decision tree model is used\n",
    "my_model= DecisionTreeClassifier()\n",
    "#train teh model to fit\n",
    "my_model.fit(X_train,y_train)\n",
    "\n",
    "#now let's predict the model\n",
    "y_pred_train=my_model.predict(X_train)\n",
    "#print(y_pred_train)\n",
    "y_pred=my_model.predict(X_test)\n",
    "#print(y_pred)\n",
    "\n",
    "#But let’s make this more meaningful. Let’s predict the output for a specific instance.\n",
    "print('-------------')\n",
    "pred_one=my_model.predict(X=[[0.0,67.0,0.0,1.0,0.0,0.0,0.0,228.69,36.6,0.0 ]])\n",
    "print(pred_one)\n",
    "\n",
    "\n",
    "\n",
    "#view the test data\n",
    "#X_test.join(y_test)\n",
    "\n"
   ]
  },
  {
   "cell_type": "code",
   "execution_count": 123,
   "id": "34d9f740",
   "metadata": {
    "scrolled": false
   },
   "outputs": [
    {
     "name": "stdout",
     "output_type": "stream",
     "text": [
      "Model accuracy on Train data:1.00 \n",
      "\n",
      "Model accuracy on Test data:0.91 \n",
      "\n",
      "The Confusion Matrix: \n",
      " [[1799   93]\n",
      " [  80   21]] \n",
      "\n",
      "Report of classification:\n",
      "               precision    recall  f1-score   support\n",
      "\n",
      "         0.0       0.96      0.95      0.95      1892\n",
      "         1.0       0.18      0.21      0.20       101\n",
      "\n",
      "    accuracy                           0.91      1993\n",
      "   macro avg       0.57      0.58      0.57      1993\n",
      "weighted avg       0.92      0.91      0.92      1993\n",
      "\n"
     ]
    },
    {
     "data": {
      "text/html": [
       "<div>\n",
       "<style scoped>\n",
       "    .dataframe tbody tr th:only-of-type {\n",
       "        vertical-align: middle;\n",
       "    }\n",
       "\n",
       "    .dataframe tbody tr th {\n",
       "        vertical-align: top;\n",
       "    }\n",
       "\n",
       "    .dataframe thead th {\n",
       "        text-align: right;\n",
       "    }\n",
       "</style>\n",
       "<table border=\"1\" class=\"dataframe\">\n",
       "  <thead>\n",
       "    <tr style=\"text-align: right;\">\n",
       "      <th></th>\n",
       "      <th>gender</th>\n",
       "      <th>age</th>\n",
       "      <th>hypertension</th>\n",
       "      <th>heart_disease</th>\n",
       "      <th>ever_married</th>\n",
       "      <th>work_type</th>\n",
       "      <th>Residence_type</th>\n",
       "      <th>avg_glucose_level</th>\n",
       "      <th>bmi</th>\n",
       "      <th>smoking_status</th>\n",
       "      <th>stroke</th>\n",
       "    </tr>\n",
       "  </thead>\n",
       "  <tbody>\n",
       "    <tr>\n",
       "      <th>2753</th>\n",
       "      <td>0.0</td>\n",
       "      <td>59.0</td>\n",
       "      <td>0.0</td>\n",
       "      <td>0.0</td>\n",
       "      <td>0.0</td>\n",
       "      <td>2.0</td>\n",
       "      <td>0.0</td>\n",
       "      <td>70.04</td>\n",
       "      <td>31.4</td>\n",
       "      <td>1.0</td>\n",
       "      <td>0.0</td>\n",
       "    </tr>\n",
       "    <tr>\n",
       "      <th>573</th>\n",
       "      <td>0.0</td>\n",
       "      <td>57.0</td>\n",
       "      <td>0.0</td>\n",
       "      <td>0.0</td>\n",
       "      <td>0.0</td>\n",
       "      <td>0.0</td>\n",
       "      <td>1.0</td>\n",
       "      <td>98.54</td>\n",
       "      <td>30.2</td>\n",
       "      <td>1.0</td>\n",
       "      <td>0.0</td>\n",
       "    </tr>\n",
       "    <tr>\n",
       "      <th>1179</th>\n",
       "      <td>1.0</td>\n",
       "      <td>80.0</td>\n",
       "      <td>0.0</td>\n",
       "      <td>0.0</td>\n",
       "      <td>0.0</td>\n",
       "      <td>1.0</td>\n",
       "      <td>1.0</td>\n",
       "      <td>104.07</td>\n",
       "      <td>19.3</td>\n",
       "      <td>0.0</td>\n",
       "      <td>0.0</td>\n",
       "    </tr>\n",
       "    <tr>\n",
       "      <th>2155</th>\n",
       "      <td>1.0</td>\n",
       "      <td>69.0</td>\n",
       "      <td>0.0</td>\n",
       "      <td>1.0</td>\n",
       "      <td>1.0</td>\n",
       "      <td>0.0</td>\n",
       "      <td>0.0</td>\n",
       "      <td>198.33</td>\n",
       "      <td>42.7</td>\n",
       "      <td>2.0</td>\n",
       "      <td>0.0</td>\n",
       "    </tr>\n",
       "    <tr>\n",
       "      <th>348</th>\n",
       "      <td>1.0</td>\n",
       "      <td>75.0</td>\n",
       "      <td>0.0</td>\n",
       "      <td>0.0</td>\n",
       "      <td>0.0</td>\n",
       "      <td>1.0</td>\n",
       "      <td>1.0</td>\n",
       "      <td>75.39</td>\n",
       "      <td>37.8</td>\n",
       "      <td>1.0</td>\n",
       "      <td>0.0</td>\n",
       "    </tr>\n",
       "    <tr>\n",
       "      <th>...</th>\n",
       "      <td>...</td>\n",
       "      <td>...</td>\n",
       "      <td>...</td>\n",
       "      <td>...</td>\n",
       "      <td>...</td>\n",
       "      <td>...</td>\n",
       "      <td>...</td>\n",
       "      <td>...</td>\n",
       "      <td>...</td>\n",
       "      <td>...</td>\n",
       "      <td>...</td>\n",
       "    </tr>\n",
       "    <tr>\n",
       "      <th>3335</th>\n",
       "      <td>1.0</td>\n",
       "      <td>72.0</td>\n",
       "      <td>1.0</td>\n",
       "      <td>1.0</td>\n",
       "      <td>0.0</td>\n",
       "      <td>0.0</td>\n",
       "      <td>0.0</td>\n",
       "      <td>198.32</td>\n",
       "      <td>31.3</td>\n",
       "      <td>0.0</td>\n",
       "      <td>0.0</td>\n",
       "    </tr>\n",
       "    <tr>\n",
       "      <th>4683</th>\n",
       "      <td>1.0</td>\n",
       "      <td>59.0</td>\n",
       "      <td>0.0</td>\n",
       "      <td>0.0</td>\n",
       "      <td>0.0</td>\n",
       "      <td>2.0</td>\n",
       "      <td>0.0</td>\n",
       "      <td>101.19</td>\n",
       "      <td>29.9</td>\n",
       "      <td>0.0</td>\n",
       "      <td>0.0</td>\n",
       "    </tr>\n",
       "    <tr>\n",
       "      <th>220</th>\n",
       "      <td>0.0</td>\n",
       "      <td>35.0</td>\n",
       "      <td>0.0</td>\n",
       "      <td>0.0</td>\n",
       "      <td>1.0</td>\n",
       "      <td>0.0</td>\n",
       "      <td>1.0</td>\n",
       "      <td>85.37</td>\n",
       "      <td>33.0</td>\n",
       "      <td>1.0</td>\n",
       "      <td>0.0</td>\n",
       "    </tr>\n",
       "    <tr>\n",
       "      <th>2349</th>\n",
       "      <td>0.0</td>\n",
       "      <td>21.0</td>\n",
       "      <td>0.0</td>\n",
       "      <td>0.0</td>\n",
       "      <td>1.0</td>\n",
       "      <td>0.0</td>\n",
       "      <td>1.0</td>\n",
       "      <td>88.29</td>\n",
       "      <td>36.6</td>\n",
       "      <td>2.0</td>\n",
       "      <td>0.0</td>\n",
       "    </tr>\n",
       "    <tr>\n",
       "      <th>1065</th>\n",
       "      <td>1.0</td>\n",
       "      <td>46.0</td>\n",
       "      <td>0.0</td>\n",
       "      <td>0.0</td>\n",
       "      <td>0.0</td>\n",
       "      <td>0.0</td>\n",
       "      <td>1.0</td>\n",
       "      <td>218.65</td>\n",
       "      <td>29.5</td>\n",
       "      <td>1.0</td>\n",
       "      <td>0.0</td>\n",
       "    </tr>\n",
       "  </tbody>\n",
       "</table>\n",
       "<p>1993 rows × 11 columns</p>\n",
       "</div>"
      ],
      "text/plain": [
       "      gender   age  hypertension  heart_disease  ever_married  work_type  Residence_type  avg_glucose_level   bmi  smoking_status  stroke\n",
       "2753     0.0  59.0           0.0            0.0           0.0        2.0             0.0              70.04  31.4             1.0     0.0\n",
       "573      0.0  57.0           0.0            0.0           0.0        0.0             1.0              98.54  30.2             1.0     0.0\n",
       "1179     1.0  80.0           0.0            0.0           0.0        1.0             1.0             104.07  19.3             0.0     0.0\n",
       "2155     1.0  69.0           0.0            1.0           1.0        0.0             0.0             198.33  42.7             2.0     0.0\n",
       "348      1.0  75.0           0.0            0.0           0.0        1.0             1.0              75.39  37.8             1.0     0.0\n",
       "...      ...   ...           ...            ...           ...        ...             ...                ...   ...             ...     ...\n",
       "3335     1.0  72.0           1.0            1.0           0.0        0.0             0.0             198.32  31.3             0.0     0.0\n",
       "4683     1.0  59.0           0.0            0.0           0.0        2.0             0.0             101.19  29.9             0.0     0.0\n",
       "220      0.0  35.0           0.0            0.0           1.0        0.0             1.0              85.37  33.0             1.0     0.0\n",
       "2349     0.0  21.0           0.0            0.0           1.0        0.0             1.0              88.29  36.6             2.0     0.0\n",
       "1065     1.0  46.0           0.0            0.0           0.0        0.0             1.0             218.65  29.5             1.0     0.0\n",
       "\n",
       "[1993 rows x 11 columns]"
      ]
     },
     "execution_count": 123,
     "metadata": {},
     "output_type": "execute_result"
    }
   ],
   "source": [
    "#compute train set accuracy\n",
    "model_accuracy_train=accuracy_score(y_train,y_pred_train)\n",
    "print(\"Model accuracy on Train data:{:.2f}\".format(model_accuracy_train), '\\n')\n",
    "#compute test set accuracy\n",
    "model_accuracy_test=accuracy_score(y_test,y_pred)\n",
    "print(\"Model accuracy on Test data:{:.2f}\".format(model_accuracy_test), '\\n')\n",
    "#constructing confusion matrix:\n",
    "matrix_info=confusion_matrix(y_test,y_pred)\n",
    "print(\"The Confusion Matrix: \\n\", matrix_info,'\\n')\n",
    "#Construct the classification report\n",
    "class_report=classification_report(y_test,y_pred)\n",
    "print(\"Report of classification:\\n\",class_report)\n",
    "#view the test data\n",
    "X_test.join(y_test)"
   ]
  },
  {
   "cell_type": "code",
   "execution_count": 124,
   "id": "71fde708",
   "metadata": {
    "scrolled": true
   },
   "outputs": [
    {
     "name": "stdout",
     "output_type": "stream",
     "text": [
      "\n",
      " The total of training dataset (3486, 10)\n",
      "\n",
      " The total of test dataset (1495, 10)\n",
      "-------------\n",
      "[1.]\n",
      "Model accuracy on Train data:1.00 \n",
      "\n",
      "Model accuracy on Test data:0.92 \n",
      "\n",
      "The Confusion Matrix: \n",
      " [[1366   52]\n",
      " [  70    7]] \n",
      "\n",
      "Report of classification:\n",
      "               precision    recall  f1-score   support\n",
      "\n",
      "         0.0       0.95      0.96      0.96      1418\n",
      "         1.0       0.12      0.09      0.10        77\n",
      "\n",
      "    accuracy                           0.92      1495\n",
      "   macro avg       0.53      0.53      0.53      1495\n",
      "weighted avg       0.91      0.92      0.91      1495\n",
      "\n"
     ]
    }
   ],
   "source": [
    "#The accuracy of the train test is 100% and the accuracy of test set is %93. The model seems predicts well on the test data.\n",
    "#But having high accuracy on the train set may be a sign of overfitting. \n",
    "#Now let's change the train and test set  to 70-30 splite.\n",
    "\n",
    "#print(X)\n",
    "#print(y)\n",
    "#splite teh data into train and test  70:30\n",
    "X_train,X_test,y_train,y_test=train_test_split(X,y,test_size=0.3,random_state=1)\n",
    "\n",
    "#check the number of train and test data\n",
    "print('\\n The total of training dataset',X_train.shape)\n",
    "print('\\n The total of test dataset', X_test.shape)\n",
    "\n",
    "#now we can instantiate the model for our model\n",
    "#in this case the decision tree model is used\n",
    "my_model= DecisionTreeClassifier()\n",
    "#train teh model to fit\n",
    "my_model.fit(X_train,y_train)\n",
    "\n",
    "#now let's predict the model\n",
    "y_pred_train=my_model.predict(X_train)\n",
    "#print(y_pred_train)\n",
    "y_pred=my_model.predict(X_test)\n",
    "#print(y_pred)\n",
    "\n",
    "#But let’s make this more meaningful. Let’s predict the output for a specific instance.\n",
    "print('-------------')\n",
    "pred_one=my_model.predict(X=[[0.0,67.0,0.0,1.0,0.0,0.0,0.0,228.69,36.6,0.0 ]])\n",
    "print(pred_one)\n",
    "\n",
    "#As you are aware that the target labels are 2 for benign, 4 for malignant\n",
    "\n",
    "#view the test data\n",
    "#X_test.join(y_test)\n",
    "\n",
    "#compute train set accuracy\n",
    "model_accuracy_train=accuracy_score(y_train,y_pred_train)\n",
    "print(\"Model accuracy on Train data:{:.2f}\".format(model_accuracy_train), '\\n')\n",
    "\n",
    "#compute test set accuracy\n",
    "model_accuracy_test=accuracy_score(y_test,y_pred)\n",
    "print(\"Model accuracy on Test data:{:.2f}\".format(model_accuracy_test), '\\n')\n",
    "\n",
    "#constructing confusion matrix:\n",
    "matrix_info=confusion_matrix(y_test,y_pred)\n",
    "print(\"The Confusion Matrix: \\n\", matrix_info,'\\n')\n",
    "\n",
    "#Construct the classification report\n",
    "class_report=classification_report(y_test,y_pred)\n",
    "print(\"Report of classification:\\n\",class_report)\n"
   ]
  },
  {
   "cell_type": "code",
   "execution_count": 125,
   "id": "7307c745",
   "metadata": {},
   "outputs": [
    {
     "name": "stdout",
     "output_type": "stream",
     "text": [
      "\n",
      " The total of training dataset (3486, 10)\n",
      "\n",
      " The total of test dataset (1495, 10)\n",
      "Model accuracy on Train data:0.95 \n",
      "\n",
      "Model accuracy on Test data:0.95 \n",
      "\n",
      "The Confusion Matrix: \n",
      " [[1418    0]\n",
      " [  77    0]] \n",
      "\n",
      "Report of classification:\n",
      "               precision    recall  f1-score   support\n",
      "\n",
      "         0.0       0.95      1.00      0.97      1418\n",
      "         1.0       0.00      0.00      0.00        77\n",
      "\n",
      "    accuracy                           0.95      1495\n",
      "   macro avg       0.47      0.50      0.49      1495\n",
      "weighted avg       0.90      0.95      0.92      1495\n",
      "\n"
     ]
    },
    {
     "name": "stderr",
     "output_type": "stream",
     "text": [
      "C:\\Users\\nastaran\\anaconda3\\lib\\site-packages\\sklearn\\metrics\\_classification.py:1245: UndefinedMetricWarning: Precision and F-score are ill-defined and being set to 0.0 in labels with no predicted samples. Use `zero_division` parameter to control this behavior.\n",
      "  _warn_prf(average, modifier, msg_start, len(result))\n",
      "C:\\Users\\nastaran\\anaconda3\\lib\\site-packages\\sklearn\\metrics\\_classification.py:1245: UndefinedMetricWarning: Precision and F-score are ill-defined and being set to 0.0 in labels with no predicted samples. Use `zero_division` parameter to control this behavior.\n",
      "  _warn_prf(average, modifier, msg_start, len(result))\n",
      "C:\\Users\\nastaran\\anaconda3\\lib\\site-packages\\sklearn\\metrics\\_classification.py:1245: UndefinedMetricWarning: Precision and F-score are ill-defined and being set to 0.0 in labels with no predicted samples. Use `zero_division` parameter to control this behavior.\n",
      "  _warn_prf(average, modifier, msg_start, len(result))\n"
     ]
    }
   ],
   "source": [
    "#spilit the data into train and test- split using 70-30\n",
    "#adding seed\n",
    "X_train, X_test, y_train, y_test=train_test_split(X, y, test_size=0.3, random_state=1)\n",
    "#check the dimention of train and test data\n",
    "print('\\n The total of training dataset', X_train.shape)\n",
    "print('\\n The total of test dataset', X_test.shape)\n",
    "\n",
    "#print some test data to view model predictions on instances\n",
    "#print(X_test[1:5].join(y_test[1:5]))\n",
    "#print(X_test.tail(5).join(y_test.tail(5)))\n",
    "\n",
    "#now we can instantiate the model for our model\n",
    "#in this case the decision tree model is used\n",
    "#Declare a SEED variable and set to 1 to ensure reproducibility.\n",
    "SEED=1\n",
    "my_model= DecisionTreeClassifier(max_depth=4, min_samples_leaf=8, random_state=SEED)\n",
    "#train teh model to fit\n",
    "my_model.fit(X_train,y_train)\n",
    "\n",
    "#now let's predict the model\n",
    "y_pred_train=my_model.predict(X_train)\n",
    "#print(y_pred_train)\n",
    "y_pred=my_model.predict(X_test)\n",
    "#print(y_pred)\n",
    "\n",
    "\n",
    "#compute train set accuracy\n",
    "model_accuracy_train=accuracy_score(y_train,y_pred_train)\n",
    "print(\"Model accuracy on Train data:{:.2f}\".format(model_accuracy_train), '\\n')\n",
    "\n",
    "#compute test set accuracy\n",
    "model_accuracy_test=accuracy_score(y_test,y_pred)\n",
    "print(\"Model accuracy on Test data:{:.2f}\".format(model_accuracy_test), '\\n')\n",
    "\n",
    "#constructing confusion matrix:\n",
    "matrix_info=confusion_matrix(y_test,y_pred)\n",
    "print(\"The Confusion Matrix: \\n\", matrix_info,'\\n')\n",
    "\n",
    "#Construct the classification report\n",
    "class_report=classification_report(y_test,y_pred)\n",
    "print(\"Report of classification:\\n\",class_report)\n",
    "#the accuracy score of the train set has reduced from 100% to 95%, while accuracy score on the test set increased tp %95."
   ]
  },
  {
   "cell_type": "code",
   "execution_count": 126,
   "id": "79811e12",
   "metadata": {},
   "outputs": [
    {
     "name": "stdout",
     "output_type": "stream",
     "text": [
      "\n",
      " The total of training dataset (2988, 10)\n",
      "\n",
      " The total of test dataset (1993, 10)\n",
      "\n",
      "Cross Val mean: 0.911 (std: 0.013)\n",
      "\n",
      "Model accuracy on Train data:1.00 \n",
      "\n",
      "Model accuracy on Test data:0.90 \n",
      "\n",
      "The Confusion Matrix: \n",
      " [[1778  116]\n",
      " [  86   13]] \n",
      "\n",
      "Report of classification:\n",
      "               precision    recall  f1-score   support\n",
      "\n",
      "         0.0       0.95      0.94      0.95      1894\n",
      "         1.0       0.10      0.13      0.11        99\n",
      "\n",
      "    accuracy                           0.90      1993\n",
      "   macro avg       0.53      0.54      0.53      1993\n",
      "weighted avg       0.91      0.90      0.90      1993\n",
      "\n"
     ]
    }
   ],
   "source": [
    "#As we are aware that achieving the high accuracy score for the training set does not guarantee the model has truly \n",
    "#fits or generalises well, particularly, when this score looks too good in the first instance.\n",
    "from sklearn.model_selection import train_test_split,cross_val_score,KFold\n",
    "#spilit the data into train and test- split using 60-40\n",
    "#set stratify to ‘y’ to ensure the data is split in same proportion of values\n",
    "X_train, X_test, y_train, y_test=train_test_split(X, y, test_size=0.4, random_state=1, stratify=y)\n",
    "#check the dimention of train and test data\n",
    "print('\\n The total of training dataset', X_train.shape)\n",
    "print('\\n The total of test dataset', X_test.shape)\n",
    "\n",
    "#print some test data to view model predictions on instances\n",
    "#print(X_test[1:5].join(y_test[1:5]))\n",
    "#print(X_test.tail(5).join(y_test.tail(5)))\n",
    "\n",
    "#now we can instantiate the model for our model\n",
    "#in this case the decision tree model is used\n",
    "my_model= DecisionTreeClassifier()\n",
    "#train teh model to fit\n",
    "my_model.fit(X_train,y_train)\n",
    "\n",
    "#declare the num of folds\n",
    "num_folds=KFold(n_splits=10, random_state=1,shuffle=True)\n",
    "#test by changing n_splits to 3, 5 and 10\n",
    "#compute the array containing the 10 folds and calculate the cros validation mean score\n",
    "CV_scores=-cross_val_score(my_model,X_train, y_train, cv=num_folds)\n",
    "print(\"\\nCross Val mean: {:.3f} (std: {:.3f})\".format(CV_scores.mean()*-1,CV_scores.std()),end=\"\\n\\n\" )\n",
    "#now let's predict the model\n",
    "y_pred_train=my_model.predict(X_train)\n",
    "#print(y_pred_train)\n",
    "y_pred=my_model.predict(X_test)\n",
    "#print(y_pred)\n",
    "\n",
    "\n",
    "#compute train set accuracy\n",
    "model_accuracy_train=accuracy_score(y_train,y_pred_train)\n",
    "print(\"Model accuracy on Train data:{:.2f}\".format(model_accuracy_train), '\\n')\n",
    "\n",
    "#compute test set accuracy\n",
    "model_accuracy_test=accuracy_score(y_test,y_pred)\n",
    "print(\"Model accuracy on Test data:{:.2f}\".format(model_accuracy_test), '\\n')\n",
    "\n",
    "#constructing confusion matrix:\n",
    "matrix_info=confusion_matrix(y_test,y_pred)\n",
    "print(\"The Confusion Matrix: \\n\", matrix_info,'\\n')\n",
    "\n",
    "#Construct the classification report\n",
    "class_report=classification_report(y_test,y_pred)\n",
    "print(\"Report of classification:\\n\",class_report)"
   ]
  },
  {
   "cell_type": "code",
   "execution_count": 127,
   "id": "423c5dc9",
   "metadata": {},
   "outputs": [
    {
     "name": "stdout",
     "output_type": "stream",
     "text": [
      "\n",
      " The total of training dataset (2988, 10)\n",
      "\n",
      " The total of test dataset (1993, 10)\n",
      "\n",
      "Cross Val mean: 0.950 (std: 0.011)\n",
      "\n",
      "Model accuracy on Train data:0.95 \n",
      "\n",
      "Model accuracy on Test data:0.95 \n",
      "\n",
      "The Confusion Matrix: \n",
      " [[1894    0]\n",
      " [  99    0]] \n",
      "\n",
      "Report of classification:\n",
      "               precision    recall  f1-score   support\n",
      "\n",
      "         0.0       0.95      1.00      0.97      1894\n",
      "         1.0       0.00      0.00      0.00        99\n",
      "\n",
      "    accuracy                           0.95      1993\n",
      "   macro avg       0.48      0.50      0.49      1993\n",
      "weighted avg       0.90      0.95      0.93      1993\n",
      "\n"
     ]
    },
    {
     "name": "stderr",
     "output_type": "stream",
     "text": [
      "C:\\Users\\nastaran\\anaconda3\\lib\\site-packages\\sklearn\\metrics\\_classification.py:1245: UndefinedMetricWarning: Precision and F-score are ill-defined and being set to 0.0 in labels with no predicted samples. Use `zero_division` parameter to control this behavior.\n",
      "  _warn_prf(average, modifier, msg_start, len(result))\n",
      "C:\\Users\\nastaran\\anaconda3\\lib\\site-packages\\sklearn\\metrics\\_classification.py:1245: UndefinedMetricWarning: Precision and F-score are ill-defined and being set to 0.0 in labels with no predicted samples. Use `zero_division` parameter to control this behavior.\n",
      "  _warn_prf(average, modifier, msg_start, len(result))\n",
      "C:\\Users\\nastaran\\anaconda3\\lib\\site-packages\\sklearn\\metrics\\_classification.py:1245: UndefinedMetricWarning: Precision and F-score are ill-defined and being set to 0.0 in labels with no predicted samples. Use `zero_division` parameter to control this behavior.\n",
      "  _warn_prf(average, modifier, msg_start, len(result))\n"
     ]
    }
   ],
   "source": [
    "#The cross-validation score tells us how well the model generalises its learning.\n",
    "#You will note that the cross validation mean score (90.9%) with a standard deviation of (0.013).\n",
    "#This means our model has overfit our data as the train score is 100% which is clearly above the bound \n",
    "#of the cross validation score. However, you will note that the test score is about equal \n",
    "#(within the same range of the cv score) to the cross validation score. \n",
    "#Let’s now tune our model by changing the configuration such as declaring the max_depth of \n",
    "#our tree and max_samples_leaf, min_samples_splits and criterion. \n",
    "\n",
    "X_train, X_test, y_train, y_test=train_test_split(X, y, test_size=0.4, random_state=1, stratify=y)\n",
    "#check the dimention of train and test data\n",
    "print('\\n The total of training dataset', X_train.shape)\n",
    "print('\\n The total of test dataset', X_test.shape)\n",
    "\n",
    "#print some test data to view model predictions on instances\n",
    "#print(X_test[1:5].join(y_test[1:5]))\n",
    "#print(X_test.tail(5).join(y_test.tail(5)))\n",
    "\n",
    "#now we can instantiate the model for our model\n",
    "#in this case the decision tree model is used\n",
    "my_model= DecisionTreeClassifier(max_depth=4, min_samples_leaf=0.05, random_state=1, criterion='gini')\n",
    "#train teh model to fit\n",
    "my_model.fit(X_train,y_train)\n",
    "\n",
    "#declare the num of folds\n",
    "num_folds=KFold(n_splits=10, random_state=1,shuffle=True)\n",
    "#test by changing n_splits to 3, 5 and 10\n",
    "#compute the array containing the 10 folds and calculate the cros validation mean score\n",
    "CV_scores=-cross_val_score(my_model,X_train, y_train, cv=num_folds)\n",
    "print(\"\\nCross Val mean: {:.3f} (std: {:.3f})\".format(CV_scores.mean()*-1,CV_scores.std()),end=\"\\n\\n\" )\n",
    "\n",
    "\n",
    "\n",
    "\n",
    "#now let's predict the model\n",
    "y_pred_train=my_model.predict(X_train)\n",
    "#print(y_pred_train)\n",
    "y_pred=my_model.predict(X_test)\n",
    "#print(y_pred)\n",
    "\n",
    "\n",
    "#compute train set accuracy\n",
    "model_accuracy_train=accuracy_score(y_train,y_pred_train)\n",
    "print(\"Model accuracy on Train data:{:.2f}\".format(model_accuracy_train), '\\n')\n",
    "\n",
    "#compute test set accuracy\n",
    "model_accuracy_test=accuracy_score(y_test,y_pred)\n",
    "print(\"Model accuracy on Test data:{:.2f}\".format(model_accuracy_test), '\\n')\n",
    "\n",
    "#constructing confusion matrix:\n",
    "matrix_info=confusion_matrix(y_test,y_pred)\n",
    "print(\"The Confusion Matrix: \\n\", matrix_info,'\\n')\n",
    "\n",
    "#Construct the classification report\n",
    "class_report=classification_report(y_test,y_pred)\n",
    "print(\"Report of classification:\\n\",class_report)\n",
    "\n",
    "#You will note the train set accuracy score is similar within the bound of the cross\n",
    "#validation accuracy score. This tells us the default model is clearly overfits and the result a better generalisation.\n"
   ]
  },
  {
   "cell_type": "code",
   "execution_count": 128,
   "id": "7c470714",
   "metadata": {},
   "outputs": [
    {
     "name": "stdout",
     "output_type": "stream",
     "text": [
      "\n",
      " The total of training dataset (2988, 10)\n",
      "\n",
      " The total of test dataset (1993, 10)\n",
      "\n",
      " Hyperparameters of Default model \n",
      " {'ccp_alpha': 0.0, 'class_weight': None, 'criterion': 'gini', 'max_depth': None, 'max_features': None, 'max_leaf_nodes': None, 'min_impurity_decrease': 0.0, 'min_impurity_split': None, 'min_samples_leaf': 1, 'min_samples_split': 2, 'min_weight_fraction_leaf': 0.0, 'random_state': 1, 'splitter': 'best'} \n",
      "\n",
      "\n",
      "Cross Val mean: 0.949 (std: 0.012)\n",
      "\n",
      "Best Hyperparameters: {'criterion': 'gini', 'max_depth': 2, 'min_samples_leaf': 0.05, 'min_samples_split': 2}\n",
      "Best max_depth= 2\n",
      "Best min_samples_aplit = 2\n",
      "Best min_samples_leaf = 0.05\n",
      "Best criterion gini\n",
      "\n",
      " Suggested Best Hyperparameters: \n",
      " {'ccp_alpha': 0.0, 'class_weight': None, 'criterion': 'gini', 'max_depth': 2, 'max_features': None, 'max_leaf_nodes': None, 'min_impurity_decrease': 0.0, 'min_impurity_split': None, 'min_samples_leaf': 0.05, 'min_samples_split': 2, 'min_weight_fraction_leaf': 0.0, 'random_state': 1, 'splitter': 'best'}\n",
      "best score: %s 0.950\n",
      "\n"
     ]
    }
   ],
   "source": [
    "#Grid Search hyperparameter tuning\n",
    "\n",
    "from sklearn.model_selection import GridSearchCV\n",
    "SEED=1\n",
    "X_train, X_test, y_train, y_test=train_test_split(X, y, test_size=0.4, random_state=1, stratify=y)\n",
    "#check the dimention of train and test data\n",
    "print('\\n The total of training dataset', X_train.shape)\n",
    "print('\\n The total of test dataset', X_test.shape)\n",
    "\n",
    "\n",
    "#now we can instantiate the model for our model\n",
    "#in this case the decision tree model is used\n",
    "my_model= DecisionTreeClassifier(random_state=SEED)\n",
    "#print the model default hyperparameters\n",
    "print('\\n Hyperparameters of Default model \\n', my_model.get_params(),'\\n')\n",
    "\n",
    "#create a cross validation split\n",
    "kfolds_split=KFold(n_splits=10)\n",
    "\n",
    "#declare a dictionary of hyperparameter and values\n",
    "classifier_hypara=dict()\n",
    "classifier_hypara['max_depth']=[2,3,4,6,8,10]\n",
    "classifier_hypara['min_samples_split']=[2,4,6,8,9]\n",
    "classifier_hypara['min_samples_leaf']=[0.05,0.1,0.5,1]\n",
    "classifier_hypara['criterion']=['gini','entropy']\n",
    "\n",
    "#perform a gridsearch and fit the grid\n",
    "classifier_grid=GridSearchCV(my_model,classifier_hypara, scoring='accuracy', n_jobs=-1, cv=kfolds_split)\n",
    "classifier_grid_fit=classifier_grid.fit(X,y)\n",
    "\n",
    "#compute the array containing the 10 folds and calculate the cros validation mean score\n",
    "CV_scores=-cross_val_score(classifier_grid_fit,X_train, y_train, cv=kfolds_split)\n",
    "print(\"\\nCross Val mean: {:.3f} (std: {:.3f})\".format(CV_scores.mean()*-1,CV_scores.std()),end=\"\\n\\n\" )\n",
    "\n",
    "#we cab print teh hyperparameter tuning results\n",
    "print('Best Hyperparameters: %s' %classifier_grid_fit.best_params_)\n",
    "print('Best max_depth=', classifier_grid_fit.best_estimator_.get_params()['max_depth'])\n",
    "print('Best min_samples_aplit =', classifier_grid_fit.best_estimator_.get_params()['min_samples_split'])\n",
    "print('Best min_samples_leaf =', classifier_grid_fit.best_estimator_.get_params()['min_samples_leaf'])\n",
    "print('Best criterion', classifier_grid_fit.best_estimator_.get_params()['criterion'])\n",
    "\n",
    "\n",
    "#print best hyperparameteres\n",
    "print('\\n Suggested Best Hyperparameters: \\n', classifier_grid_fit.best_estimator_.get_params())\n",
    "print('best score: %s {:.3f}\\n'.format(classifier_grid_fit.best_score_))\n",
    "\n"
   ]
  },
  {
   "cell_type": "code",
   "execution_count": 129,
   "id": "e63d0a0d",
   "metadata": {},
   "outputs": [
    {
     "name": "stdout",
     "output_type": "stream",
     "text": [
      "\n",
      " The total of training dataset (2988, 10)\n",
      "\n",
      " The total of test dataset (1993, 10)\n",
      "\n",
      "Cross Val mean: 0.950 (std: 0.011)\n",
      "\n",
      "Model accuracy on Train data:0.95 \n",
      "\n",
      "Model accuracy on Test data:0.95 \n",
      "\n",
      "The Confusion Matrix: \n",
      " [[1894    0]\n",
      " [  99    0]] \n",
      "\n",
      "Report of classification:\n",
      "               precision    recall  f1-score   support\n",
      "\n",
      "         0.0       0.95      1.00      0.97      1894\n",
      "         1.0       0.00      0.00      0.00        99\n",
      "\n",
      "    accuracy                           0.95      1993\n",
      "   macro avg       0.48      0.50      0.49      1993\n",
      "weighted avg       0.90      0.95      0.93      1993\n",
      "\n"
     ]
    },
    {
     "name": "stderr",
     "output_type": "stream",
     "text": [
      "C:\\Users\\nastaran\\anaconda3\\lib\\site-packages\\sklearn\\metrics\\_classification.py:1245: UndefinedMetricWarning: Precision and F-score are ill-defined and being set to 0.0 in labels with no predicted samples. Use `zero_division` parameter to control this behavior.\n",
      "  _warn_prf(average, modifier, msg_start, len(result))\n",
      "C:\\Users\\nastaran\\anaconda3\\lib\\site-packages\\sklearn\\metrics\\_classification.py:1245: UndefinedMetricWarning: Precision and F-score are ill-defined and being set to 0.0 in labels with no predicted samples. Use `zero_division` parameter to control this behavior.\n",
      "  _warn_prf(average, modifier, msg_start, len(result))\n",
      "C:\\Users\\nastaran\\anaconda3\\lib\\site-packages\\sklearn\\metrics\\_classification.py:1245: UndefinedMetricWarning: Precision and F-score are ill-defined and being set to 0.0 in labels with no predicted samples. Use `zero_division` parameter to control this behavior.\n",
      "  _warn_prf(average, modifier, msg_start, len(result))\n"
     ]
    }
   ],
   "source": [
    "#You will note the results suggesting the best hyperparmeters \n",
    "#combinations from the declared values in the hyperparameter dictionary \n",
    "#(max_depth = 2, min_samples_split = 2, min_samples_leaf =0.05 and criterion =gini). \n",
    "X_train, X_test, y_train, y_test=train_test_split(X, y, test_size=0.4, random_state=1, stratify=y)\n",
    "#check the dimention of train and test data\n",
    "print('\\n The total of training dataset', X_train.shape)\n",
    "print('\\n The total of test dataset', X_test.shape)\n",
    "\n",
    "#print some test data to view model predictions on instances\n",
    "#print(X_test[1:5].join(y_test[1:5]))\n",
    "#print(X_test.tail(5).join(y_test.tail(5)))\n",
    "\n",
    "#now we can instantiate the model for our model\n",
    "#in this case the decision tree model is used\n",
    "my_model= DecisionTreeClassifier(max_depth=2, min_samples_leaf=0.05,min_samples_split = 2, random_state=1, criterion='gini')\n",
    "#train teh model to fit\n",
    "my_model.fit(X_train,y_train)\n",
    "\n",
    "#declare the num of folds\n",
    "num_folds=KFold(n_splits=10, random_state=1,shuffle=True)\n",
    "#test by changing n_splits to 3, 5 and 10\n",
    "#compute the array containing the 10 folds and calculate the cros validation mean score\n",
    "CV_scores=-cross_val_score(my_model,X_train, y_train, cv=num_folds)\n",
    "print(\"\\nCross Val mean: {:.3f} (std: {:.3f})\".format(CV_scores.mean()*-1,CV_scores.std()),end=\"\\n\\n\" )\n",
    "\n",
    "\n",
    "\n",
    "\n",
    "#now let's predict the model\n",
    "y_pred_train=my_model.predict(X_train)\n",
    "#print(y_pred_train)\n",
    "y_pred=my_model.predict(X_test)\n",
    "#print(y_pred)\n",
    "\n",
    "\n",
    "#compute train set accuracy\n",
    "model_accuracy_train=accuracy_score(y_train,y_pred_train)\n",
    "print(\"Model accuracy on Train data:{:.2f}\".format(model_accuracy_train), '\\n')\n",
    "\n",
    "#compute test set accuracy\n",
    "model_accuracy_test=accuracy_score(y_test,y_pred)\n",
    "print(\"Model accuracy on Test data:{:.2f}\".format(model_accuracy_test), '\\n')\n",
    "\n",
    "#constructing confusion matrix:\n",
    "matrix_info=confusion_matrix(y_test,y_pred)\n",
    "print(\"The Confusion Matrix: \\n\", matrix_info,'\\n')\n",
    "\n",
    "#Construct the classification report\n",
    "class_report=classification_report(y_test,y_pred)\n",
    "print(\"Report of classification:\\n\",class_report)\n"
   ]
  },
  {
   "cell_type": "code",
   "execution_count": 130,
   "id": "15137d18",
   "metadata": {
    "scrolled": false
   },
   "outputs": [
    {
     "name": "stderr",
     "output_type": "stream",
     "text": [
      "C:\\Users\\nastaran\\anaconda3\\lib\\site-packages\\sklearn\\linear_model\\_logistic.py:763: ConvergenceWarning: lbfgs failed to converge (status=1):\n",
      "STOP: TOTAL NO. of ITERATIONS REACHED LIMIT.\n",
      "\n",
      "Increase the number of iterations (max_iter) or scale the data as shown in:\n",
      "    https://scikit-learn.org/stable/modules/preprocessing.html\n",
      "Please also refer to the documentation for alternative solver options:\n",
      "    https://scikit-learn.org/stable/modules/linear_model.html#logistic-regression\n",
      "  n_iter_i = _check_optimize_result(\n",
      "C:\\Users\\nastaran\\anaconda3\\lib\\site-packages\\sklearn\\linear_model\\_logistic.py:763: ConvergenceWarning: lbfgs failed to converge (status=1):\n",
      "STOP: TOTAL NO. of ITERATIONS REACHED LIMIT.\n",
      "\n",
      "Increase the number of iterations (max_iter) or scale the data as shown in:\n",
      "    https://scikit-learn.org/stable/modules/preprocessing.html\n",
      "Please also refer to the documentation for alternative solver options:\n",
      "    https://scikit-learn.org/stable/modules/linear_model.html#logistic-regression\n",
      "  n_iter_i = _check_optimize_result(\n",
      "C:\\Users\\nastaran\\anaconda3\\lib\\site-packages\\sklearn\\linear_model\\_logistic.py:763: ConvergenceWarning: lbfgs failed to converge (status=1):\n",
      "STOP: TOTAL NO. of ITERATIONS REACHED LIMIT.\n",
      "\n",
      "Increase the number of iterations (max_iter) or scale the data as shown in:\n",
      "    https://scikit-learn.org/stable/modules/preprocessing.html\n",
      "Please also refer to the documentation for alternative solver options:\n",
      "    https://scikit-learn.org/stable/modules/linear_model.html#logistic-regression\n",
      "  n_iter_i = _check_optimize_result(\n",
      "C:\\Users\\nastaran\\anaconda3\\lib\\site-packages\\sklearn\\linear_model\\_logistic.py:763: ConvergenceWarning: lbfgs failed to converge (status=1):\n",
      "STOP: TOTAL NO. of ITERATIONS REACHED LIMIT.\n",
      "\n",
      "Increase the number of iterations (max_iter) or scale the data as shown in:\n",
      "    https://scikit-learn.org/stable/modules/preprocessing.html\n",
      "Please also refer to the documentation for alternative solver options:\n",
      "    https://scikit-learn.org/stable/modules/linear_model.html#logistic-regression\n",
      "  n_iter_i = _check_optimize_result(\n",
      "C:\\Users\\nastaran\\anaconda3\\lib\\site-packages\\sklearn\\linear_model\\_logistic.py:763: ConvergenceWarning: lbfgs failed to converge (status=1):\n",
      "STOP: TOTAL NO. of ITERATIONS REACHED LIMIT.\n",
      "\n",
      "Increase the number of iterations (max_iter) or scale the data as shown in:\n",
      "    https://scikit-learn.org/stable/modules/preprocessing.html\n",
      "Please also refer to the documentation for alternative solver options:\n",
      "    https://scikit-learn.org/stable/modules/linear_model.html#logistic-regression\n",
      "  n_iter_i = _check_optimize_result(\n",
      "C:\\Users\\nastaran\\anaconda3\\lib\\site-packages\\sklearn\\linear_model\\_logistic.py:763: ConvergenceWarning: lbfgs failed to converge (status=1):\n",
      "STOP: TOTAL NO. of ITERATIONS REACHED LIMIT.\n",
      "\n",
      "Increase the number of iterations (max_iter) or scale the data as shown in:\n",
      "    https://scikit-learn.org/stable/modules/preprocessing.html\n",
      "Please also refer to the documentation for alternative solver options:\n",
      "    https://scikit-learn.org/stable/modules/linear_model.html#logistic-regression\n",
      "  n_iter_i = _check_optimize_result(\n",
      "C:\\Users\\nastaran\\anaconda3\\lib\\site-packages\\sklearn\\linear_model\\_logistic.py:763: ConvergenceWarning: lbfgs failed to converge (status=1):\n",
      "STOP: TOTAL NO. of ITERATIONS REACHED LIMIT.\n",
      "\n",
      "Increase the number of iterations (max_iter) or scale the data as shown in:\n",
      "    https://scikit-learn.org/stable/modules/preprocessing.html\n",
      "Please also refer to the documentation for alternative solver options:\n",
      "    https://scikit-learn.org/stable/modules/linear_model.html#logistic-regression\n",
      "  n_iter_i = _check_optimize_result(\n",
      "C:\\Users\\nastaran\\anaconda3\\lib\\site-packages\\sklearn\\linear_model\\_logistic.py:763: ConvergenceWarning: lbfgs failed to converge (status=1):\n",
      "STOP: TOTAL NO. of ITERATIONS REACHED LIMIT.\n",
      "\n",
      "Increase the number of iterations (max_iter) or scale the data as shown in:\n",
      "    https://scikit-learn.org/stable/modules/preprocessing.html\n",
      "Please also refer to the documentation for alternative solver options:\n",
      "    https://scikit-learn.org/stable/modules/linear_model.html#logistic-regression\n",
      "  n_iter_i = _check_optimize_result(\n",
      "C:\\Users\\nastaran\\anaconda3\\lib\\site-packages\\sklearn\\linear_model\\_logistic.py:763: ConvergenceWarning: lbfgs failed to converge (status=1):\n",
      "STOP: TOTAL NO. of ITERATIONS REACHED LIMIT.\n",
      "\n",
      "Increase the number of iterations (max_iter) or scale the data as shown in:\n",
      "    https://scikit-learn.org/stable/modules/preprocessing.html\n",
      "Please also refer to the documentation for alternative solver options:\n",
      "    https://scikit-learn.org/stable/modules/linear_model.html#logistic-regression\n",
      "  n_iter_i = _check_optimize_result(\n",
      "C:\\Users\\nastaran\\anaconda3\\lib\\site-packages\\sklearn\\linear_model\\_logistic.py:763: ConvergenceWarning: lbfgs failed to converge (status=1):\n",
      "STOP: TOTAL NO. of ITERATIONS REACHED LIMIT.\n",
      "\n",
      "Increase the number of iterations (max_iter) or scale the data as shown in:\n",
      "    https://scikit-learn.org/stable/modules/preprocessing.html\n",
      "Please also refer to the documentation for alternative solver options:\n",
      "    https://scikit-learn.org/stable/modules/linear_model.html#logistic-regression\n",
      "  n_iter_i = _check_optimize_result(\n",
      "C:\\Users\\nastaran\\anaconda3\\lib\\site-packages\\sklearn\\linear_model\\_logistic.py:763: ConvergenceWarning: lbfgs failed to converge (status=1):\n",
      "STOP: TOTAL NO. of ITERATIONS REACHED LIMIT.\n",
      "\n",
      "Increase the number of iterations (max_iter) or scale the data as shown in:\n",
      "    https://scikit-learn.org/stable/modules/preprocessing.html\n",
      "Please also refer to the documentation for alternative solver options:\n",
      "    https://scikit-learn.org/stable/modules/linear_model.html#logistic-regression\n",
      "  n_iter_i = _check_optimize_result(\n"
     ]
    },
    {
     "name": "stdout",
     "output_type": "stream",
     "text": [
      "\n",
      "Cross Val mean: 0.949 (std: 0.011)\n",
      "\n",
      "\n",
      " Logostic Regression: Test : 0.951 \n",
      "\n",
      "\n",
      " Logostic Regression: Train : 0.949 \n",
      "\n",
      "---------------\n",
      "\n",
      "Cross Val mean: 0.945 (std: 0.011)\n",
      "\n",
      "\n",
      " K Nearest Neighbours: Test : 0.942 \n",
      "\n",
      "\n",
      " K Nearest Neighbours: Train : 0.953 \n",
      "\n",
      "---------------\n",
      "\n",
      "Cross Val mean: 0.908 (std: 0.011)\n",
      "\n",
      "\n",
      " Decisio Tree: Test : 0.904 \n",
      "\n",
      "\n",
      " Decisio Tree: Train : 1.000 \n",
      "\n",
      "---------------\n"
     ]
    },
    {
     "name": "stderr",
     "output_type": "stream",
     "text": [
      "C:\\Users\\nastaran\\anaconda3\\lib\\site-packages\\sklearn\\linear_model\\_logistic.py:763: ConvergenceWarning: lbfgs failed to converge (status=1):\n",
      "STOP: TOTAL NO. of ITERATIONS REACHED LIMIT.\n",
      "\n",
      "Increase the number of iterations (max_iter) or scale the data as shown in:\n",
      "    https://scikit-learn.org/stable/modules/preprocessing.html\n",
      "Please also refer to the documentation for alternative solver options:\n",
      "    https://scikit-learn.org/stable/modules/linear_model.html#logistic-regression\n",
      "  n_iter_i = _check_optimize_result(\n",
      "C:\\Users\\nastaran\\anaconda3\\lib\\site-packages\\sklearn\\linear_model\\_logistic.py:763: ConvergenceWarning: lbfgs failed to converge (status=1):\n",
      "STOP: TOTAL NO. of ITERATIONS REACHED LIMIT.\n",
      "\n",
      "Increase the number of iterations (max_iter) or scale the data as shown in:\n",
      "    https://scikit-learn.org/stable/modules/preprocessing.html\n",
      "Please also refer to the documentation for alternative solver options:\n",
      "    https://scikit-learn.org/stable/modules/linear_model.html#logistic-regression\n",
      "  n_iter_i = _check_optimize_result(\n",
      "C:\\Users\\nastaran\\anaconda3\\lib\\site-packages\\sklearn\\linear_model\\_logistic.py:763: ConvergenceWarning: lbfgs failed to converge (status=1):\n",
      "STOP: TOTAL NO. of ITERATIONS REACHED LIMIT.\n",
      "\n",
      "Increase the number of iterations (max_iter) or scale the data as shown in:\n",
      "    https://scikit-learn.org/stable/modules/preprocessing.html\n",
      "Please also refer to the documentation for alternative solver options:\n",
      "    https://scikit-learn.org/stable/modules/linear_model.html#logistic-regression\n",
      "  n_iter_i = _check_optimize_result(\n",
      "C:\\Users\\nastaran\\anaconda3\\lib\\site-packages\\sklearn\\linear_model\\_logistic.py:763: ConvergenceWarning: lbfgs failed to converge (status=1):\n",
      "STOP: TOTAL NO. of ITERATIONS REACHED LIMIT.\n",
      "\n",
      "Increase the number of iterations (max_iter) or scale the data as shown in:\n",
      "    https://scikit-learn.org/stable/modules/preprocessing.html\n",
      "Please also refer to the documentation for alternative solver options:\n",
      "    https://scikit-learn.org/stable/modules/linear_model.html#logistic-regression\n",
      "  n_iter_i = _check_optimize_result(\n",
      "C:\\Users\\nastaran\\anaconda3\\lib\\site-packages\\sklearn\\linear_model\\_logistic.py:763: ConvergenceWarning: lbfgs failed to converge (status=1):\n",
      "STOP: TOTAL NO. of ITERATIONS REACHED LIMIT.\n",
      "\n",
      "Increase the number of iterations (max_iter) or scale the data as shown in:\n",
      "    https://scikit-learn.org/stable/modules/preprocessing.html\n",
      "Please also refer to the documentation for alternative solver options:\n",
      "    https://scikit-learn.org/stable/modules/linear_model.html#logistic-regression\n",
      "  n_iter_i = _check_optimize_result(\n",
      "C:\\Users\\nastaran\\anaconda3\\lib\\site-packages\\sklearn\\linear_model\\_logistic.py:763: ConvergenceWarning: lbfgs failed to converge (status=1):\n",
      "STOP: TOTAL NO. of ITERATIONS REACHED LIMIT.\n",
      "\n",
      "Increase the number of iterations (max_iter) or scale the data as shown in:\n",
      "    https://scikit-learn.org/stable/modules/preprocessing.html\n",
      "Please also refer to the documentation for alternative solver options:\n",
      "    https://scikit-learn.org/stable/modules/linear_model.html#logistic-regression\n",
      "  n_iter_i = _check_optimize_result(\n",
      "C:\\Users\\nastaran\\anaconda3\\lib\\site-packages\\sklearn\\linear_model\\_logistic.py:763: ConvergenceWarning: lbfgs failed to converge (status=1):\n",
      "STOP: TOTAL NO. of ITERATIONS REACHED LIMIT.\n",
      "\n",
      "Increase the number of iterations (max_iter) or scale the data as shown in:\n",
      "    https://scikit-learn.org/stable/modules/preprocessing.html\n",
      "Please also refer to the documentation for alternative solver options:\n",
      "    https://scikit-learn.org/stable/modules/linear_model.html#logistic-regression\n",
      "  n_iter_i = _check_optimize_result(\n",
      "C:\\Users\\nastaran\\anaconda3\\lib\\site-packages\\sklearn\\linear_model\\_logistic.py:763: ConvergenceWarning: lbfgs failed to converge (status=1):\n",
      "STOP: TOTAL NO. of ITERATIONS REACHED LIMIT.\n",
      "\n",
      "Increase the number of iterations (max_iter) or scale the data as shown in:\n",
      "    https://scikit-learn.org/stable/modules/preprocessing.html\n",
      "Please also refer to the documentation for alternative solver options:\n",
      "    https://scikit-learn.org/stable/modules/linear_model.html#logistic-regression\n",
      "  n_iter_i = _check_optimize_result(\n",
      "C:\\Users\\nastaran\\anaconda3\\lib\\site-packages\\sklearn\\linear_model\\_logistic.py:763: ConvergenceWarning: lbfgs failed to converge (status=1):\n",
      "STOP: TOTAL NO. of ITERATIONS REACHED LIMIT.\n",
      "\n",
      "Increase the number of iterations (max_iter) or scale the data as shown in:\n",
      "    https://scikit-learn.org/stable/modules/preprocessing.html\n",
      "Please also refer to the documentation for alternative solver options:\n",
      "    https://scikit-learn.org/stable/modules/linear_model.html#logistic-regression\n",
      "  n_iter_i = _check_optimize_result(\n",
      "C:\\Users\\nastaran\\anaconda3\\lib\\site-packages\\sklearn\\linear_model\\_logistic.py:763: ConvergenceWarning: lbfgs failed to converge (status=1):\n",
      "STOP: TOTAL NO. of ITERATIONS REACHED LIMIT.\n",
      "\n",
      "Increase the number of iterations (max_iter) or scale the data as shown in:\n",
      "    https://scikit-learn.org/stable/modules/preprocessing.html\n",
      "Please also refer to the documentation for alternative solver options:\n",
      "    https://scikit-learn.org/stable/modules/linear_model.html#logistic-regression\n",
      "  n_iter_i = _check_optimize_result(\n",
      "C:\\Users\\nastaran\\anaconda3\\lib\\site-packages\\sklearn\\linear_model\\_logistic.py:763: ConvergenceWarning: lbfgs failed to converge (status=1):\n",
      "STOP: TOTAL NO. of ITERATIONS REACHED LIMIT.\n",
      "\n",
      "Increase the number of iterations (max_iter) or scale the data as shown in:\n",
      "    https://scikit-learn.org/stable/modules/preprocessing.html\n",
      "Please also refer to the documentation for alternative solver options:\n",
      "    https://scikit-learn.org/stable/modules/linear_model.html#logistic-regression\n",
      "  n_iter_i = _check_optimize_result(\n"
     ]
    },
    {
     "name": "stdout",
     "output_type": "stream",
     "text": [
      "\n",
      "Cross Val mean: 0.947 (std: 0.011)\n",
      "\n",
      "\n",
      " voting classifier Test0.946 \n",
      "\n",
      "\n",
      " voting classifier Train0.956 \n",
      "\n"
     ]
    }
   ],
   "source": [
    "from sklearn.ensemble import VotingClassifier\n",
    "from sklearn.linear_model import LogisticRegression\n",
    "from sklearn.neighbors import KNeighborsClassifier\n",
    "#For our ensemble learning, we will adopt three different classification models namely, Logistic Regression, Decision Tree and K Nearest Neighbour.\n",
    "SEED=1\n",
    "X_train, X_test, y_train, y_test=train_test_split(X, y, test_size=0.4, random_state=1, stratify=y)\n",
    "\n",
    "#instantiate teh models\n",
    "lr=LogisticRegression(random_state=SEED)\n",
    "knc=KNeighborsClassifier()\n",
    "dtc=DecisionTreeClassifier(random_state=SEED)\n",
    "\n",
    "#INSTANTIATE A CLASSIFIER LIST\n",
    "classifier_list=[('Logostic Regression:',lr),('K Nearest Neighbours:', knc),('Decisio Tree:',dtc)]\n",
    "\n",
    "#declare a for loop to iterate through the models\n",
    "for clsf_name, clsf in classifier_list:\n",
    "    clsf.fit(X_train,y_train)\n",
    "    # Compute the array containing the 10-folds CV MESEs\n",
    "    CV_scores_clsf=-cross_val_score(clsf, X_train, y_train, cv=kfolds_split)\n",
    "    print(\"\\nCross Val mean: {:.3f} (std: {:.3f})\".format(CV_scores_clsf.mean()*-1,CV_scores.std()),end=\"\\n\\n\" )\n",
    "\n",
    "    #predict and calculate the azccuracy on test data for each model\n",
    "    y_predict_test_clsf=clsf.predict(X_test)\n",
    "    print('\\n {:s} Test : {:.3f}'.format(clsf_name,accuracy_score(y_test,y_predict_test_clsf)),'\\n')\n",
    "\n",
    "     #predict and calculate the azccuracy on train data for each model\n",
    "    y_predict_train_clsf=clsf.predict(X_train)\n",
    "    print('\\n {:s} Train : {:.3f}'.format(clsf_name,accuracy_score(y_train,y_predict_train_clsf)),'\\n')\n",
    "    print(\"---------------\")\n",
    "\n",
    "#instantiate the voting classifier\n",
    "vc=VotingClassifier(estimators=classifier_list)\n",
    "\n",
    "#fit vc to the traing set and lables\n",
    "vc.fit(X_train,y_train)\n",
    "\n",
    "# compute the array containg the 10-folds cv mses\n",
    "CV_scores_vc=-cross_val_score(vc,X_train, y_train, cv=10)\n",
    "print(\"\\nCross Val mean: {:.3f} (std: {:.3f})\".format(CV_scores_vc.mean()*-1,CV_scores.std()),end=\"\\n\\n\" )\n",
    "\n",
    "\n",
    "\n",
    "y_pred_test = vc.predict(X_test)\n",
    "print('\\n voting classifier Test{:.3f}'.format(accuracy_score(y_test, y_pred_test)),'\\n')\n",
    "\n",
    "y_pred_train_vc=vc.predict(X_train)\n",
    "print('\\n voting classifier Train{:.3f}'.format(accuracy_score(y_train,y_pred_train_vc)),'\\n')\n",
    "#You will note that the decision tree model seems to have overfit\n",
    "#as the training score and cross validation score are way off,\n",
    "#but the voting classifier result compensates. \n",
    "#Thus, the overall result shows the ensemble model’s prediction\n",
    "#is 93.4% on unseen data with a high degree of consistency.\n",
    "\n",
    "\n",
    "\n",
    "\n"
   ]
  },
  {
   "cell_type": "code",
   "execution_count": null,
   "id": "27b93f29",
   "metadata": {},
   "outputs": [],
   "source": []
  },
  {
   "cell_type": "code",
   "execution_count": null,
   "id": "8b9cd739",
   "metadata": {},
   "outputs": [],
   "source": []
  },
  {
   "cell_type": "code",
   "execution_count": null,
   "id": "d3ff40b4",
   "metadata": {},
   "outputs": [],
   "source": []
  },
  {
   "cell_type": "code",
   "execution_count": null,
   "id": "9532445c",
   "metadata": {},
   "outputs": [],
   "source": []
  },
  {
   "cell_type": "code",
   "execution_count": null,
   "id": "b785c75a",
   "metadata": {},
   "outputs": [],
   "source": []
  },
  {
   "cell_type": "code",
   "execution_count": null,
   "id": "8a00c90d",
   "metadata": {},
   "outputs": [],
   "source": []
  },
  {
   "cell_type": "code",
   "execution_count": null,
   "id": "b664ca77",
   "metadata": {},
   "outputs": [],
   "source": []
  },
  {
   "cell_type": "code",
   "execution_count": null,
   "id": "e4f21b77",
   "metadata": {},
   "outputs": [],
   "source": []
  },
  {
   "cell_type": "code",
   "execution_count": null,
   "id": "7cfe5031",
   "metadata": {},
   "outputs": [],
   "source": []
  },
  {
   "cell_type": "code",
   "execution_count": null,
   "id": "b6f8ec35",
   "metadata": {},
   "outputs": [],
   "source": []
  },
  {
   "cell_type": "code",
   "execution_count": null,
   "id": "a57437ca",
   "metadata": {},
   "outputs": [],
   "source": []
  },
  {
   "cell_type": "code",
   "execution_count": null,
   "id": "3c99e153",
   "metadata": {},
   "outputs": [],
   "source": []
  },
  {
   "cell_type": "code",
   "execution_count": null,
   "id": "bc1c9723",
   "metadata": {},
   "outputs": [],
   "source": []
  },
  {
   "cell_type": "code",
   "execution_count": null,
   "id": "a1ecf04c",
   "metadata": {},
   "outputs": [],
   "source": []
  },
  {
   "cell_type": "code",
   "execution_count": null,
   "id": "e336003d",
   "metadata": {},
   "outputs": [],
   "source": []
  },
  {
   "cell_type": "code",
   "execution_count": null,
   "id": "f559a67b",
   "metadata": {},
   "outputs": [],
   "source": []
  },
  {
   "cell_type": "code",
   "execution_count": null,
   "id": "3de60515",
   "metadata": {},
   "outputs": [],
   "source": []
  }
 ],
 "metadata": {
  "celltoolbar": "Attachments",
  "kernelspec": {
   "display_name": "Python 3",
   "language": "python",
   "name": "python3"
  },
  "language_info": {
   "codemirror_mode": {
    "name": "ipython",
    "version": 3
   },
   "file_extension": ".py",
   "mimetype": "text/x-python",
   "name": "python",
   "nbconvert_exporter": "python",
   "pygments_lexer": "ipython3",
   "version": "3.8.8"
  }
 },
 "nbformat": 4,
 "nbformat_minor": 5
}
